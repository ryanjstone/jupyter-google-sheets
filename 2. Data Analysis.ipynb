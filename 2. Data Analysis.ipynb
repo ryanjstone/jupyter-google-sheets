{
 "cells": [
  {
   "cell_type": "markdown",
   "metadata": {},
   "source": [
    "# Data Analysis"
   ]
  },
  {
   "cell_type": "markdown",
   "metadata": {},
   "source": [
    "### 1. Load the Data from clean CSV"
   ]
  },
  {
   "cell_type": "code",
   "execution_count": 538,
   "metadata": {},
   "outputs": [
    {
     "data": {
      "text/html": [
       "<div>\n",
       "<style scoped>\n",
       "    .dataframe tbody tr th:only-of-type {\n",
       "        vertical-align: middle;\n",
       "    }\n",
       "\n",
       "    .dataframe tbody tr th {\n",
       "        vertical-align: top;\n",
       "    }\n",
       "\n",
       "    .dataframe thead th {\n",
       "        text-align: right;\n",
       "    }\n",
       "</style>\n",
       "<table border=\"1\" class=\"dataframe\">\n",
       "  <thead>\n",
       "    <tr style=\"text-align: right;\">\n",
       "      <th></th>\n",
       "      <th>time</th>\n",
       "      <th>weight</th>\n",
       "      <th>bmi</th>\n",
       "      <th>body_fat</th>\n",
       "      <th>fat_free_body_weight</th>\n",
       "      <th>sub_fat</th>\n",
       "      <th>vis_fat</th>\n",
       "      <th>body_water</th>\n",
       "      <th>ske_muscle</th>\n",
       "      <th>muscle_mass</th>\n",
       "      <th>bone_mass</th>\n",
       "      <th>protein</th>\n",
       "      <th>bmr</th>\n",
       "      <th>age</th>\n",
       "    </tr>\n",
       "    <tr>\n",
       "      <th>DATE</th>\n",
       "      <th></th>\n",
       "      <th></th>\n",
       "      <th></th>\n",
       "      <th></th>\n",
       "      <th></th>\n",
       "      <th></th>\n",
       "      <th></th>\n",
       "      <th></th>\n",
       "      <th></th>\n",
       "      <th></th>\n",
       "      <th></th>\n",
       "      <th></th>\n",
       "      <th></th>\n",
       "      <th></th>\n",
       "    </tr>\n",
       "  </thead>\n",
       "  <tbody>\n",
       "    <tr>\n",
       "      <th>2023-11-01</th>\n",
       "      <td>07:03</td>\n",
       "      <td>167.4</td>\n",
       "      <td>24.8</td>\n",
       "      <td>0.241</td>\n",
       "      <td>127.1</td>\n",
       "      <td>0.162</td>\n",
       "      <td>9.5</td>\n",
       "      <td>0.520</td>\n",
       "      <td>0.522</td>\n",
       "      <td>119.0</td>\n",
       "      <td>6.5</td>\n",
       "      <td>0.199</td>\n",
       "      <td>1619</td>\n",
       "      <td>38</td>\n",
       "    </tr>\n",
       "    <tr>\n",
       "      <th>2023-11-02</th>\n",
       "      <td>07:03</td>\n",
       "      <td>166.2</td>\n",
       "      <td>24.6</td>\n",
       "      <td>0.238</td>\n",
       "      <td>126.6</td>\n",
       "      <td>0.160</td>\n",
       "      <td>9.4</td>\n",
       "      <td>0.522</td>\n",
       "      <td>0.524</td>\n",
       "      <td>118.6</td>\n",
       "      <td>6.6</td>\n",
       "      <td>0.200</td>\n",
       "      <td>1614</td>\n",
       "      <td>38</td>\n",
       "    </tr>\n",
       "    <tr>\n",
       "      <th>2023-11-09</th>\n",
       "      <td>07:04</td>\n",
       "      <td>166.4</td>\n",
       "      <td>24.6</td>\n",
       "      <td>0.239</td>\n",
       "      <td>126.6</td>\n",
       "      <td>0.161</td>\n",
       "      <td>9.4</td>\n",
       "      <td>0.521</td>\n",
       "      <td>0.523</td>\n",
       "      <td>118.6</td>\n",
       "      <td>6.6</td>\n",
       "      <td>0.200</td>\n",
       "      <td>1615</td>\n",
       "      <td>38</td>\n",
       "    </tr>\n",
       "    <tr>\n",
       "      <th>2023-11-16</th>\n",
       "      <td>07:04</td>\n",
       "      <td>166.6</td>\n",
       "      <td>24.7</td>\n",
       "      <td>0.240</td>\n",
       "      <td>126.6</td>\n",
       "      <td>0.161</td>\n",
       "      <td>9.5</td>\n",
       "      <td>0.521</td>\n",
       "      <td>0.522</td>\n",
       "      <td>118.6</td>\n",
       "      <td>6.5</td>\n",
       "      <td>0.200</td>\n",
       "      <td>1616</td>\n",
       "      <td>38</td>\n",
       "    </tr>\n",
       "    <tr>\n",
       "      <th>2023-11-23</th>\n",
       "      <td>07:03</td>\n",
       "      <td>165.8</td>\n",
       "      <td>24.6</td>\n",
       "      <td>0.238</td>\n",
       "      <td>126.3</td>\n",
       "      <td>0.160</td>\n",
       "      <td>9.4</td>\n",
       "      <td>0.522</td>\n",
       "      <td>0.524</td>\n",
       "      <td>118.5</td>\n",
       "      <td>6.6</td>\n",
       "      <td>0.201</td>\n",
       "      <td>1611</td>\n",
       "      <td>38</td>\n",
       "    </tr>\n",
       "  </tbody>\n",
       "</table>\n",
       "</div>"
      ],
      "text/plain": [
       "             time  weight   bmi  body_fat  fat_free_body_weight  sub_fat  \\\n",
       "DATE                                                                       \n",
       "2023-11-01  07:03   167.4  24.8     0.241                 127.1    0.162   \n",
       "2023-11-02  07:03   166.2  24.6     0.238                 126.6    0.160   \n",
       "2023-11-09  07:04   166.4  24.6     0.239                 126.6    0.161   \n",
       "2023-11-16  07:04   166.6  24.7     0.240                 126.6    0.161   \n",
       "2023-11-23  07:03   165.8  24.6     0.238                 126.3    0.160   \n",
       "\n",
       "            vis_fat  body_water  ske_muscle  muscle_mass  bone_mass  protein  \\\n",
       "DATE                                                                           \n",
       "2023-11-01      9.5       0.520       0.522        119.0        6.5    0.199   \n",
       "2023-11-02      9.4       0.522       0.524        118.6        6.6    0.200   \n",
       "2023-11-09      9.4       0.521       0.523        118.6        6.6    0.200   \n",
       "2023-11-16      9.5       0.521       0.522        118.6        6.5    0.200   \n",
       "2023-11-23      9.4       0.522       0.524        118.5        6.6    0.201   \n",
       "\n",
       "             bmr  age  \n",
       "DATE                   \n",
       "2023-11-01  1619   38  \n",
       "2023-11-02  1614   38  \n",
       "2023-11-09  1615   38  \n",
       "2023-11-16  1616   38  \n",
       "2023-11-23  1611   38  "
      ]
     },
     "execution_count": 538,
     "metadata": {},
     "output_type": "execute_result"
    }
   ],
   "source": [
    "# Import pandas to extract the data\n",
    "import pandas as pd\n",
    "\n",
    "# Import numpy to manipulate the data\n",
    "import numpy as np\n",
    "\n",
    "# Import matplotlib for visual analysis\n",
    "%matplotlib inline\n",
    "import matplotlib as mpl\n",
    "import matplotlib.pyplot as plt\n",
    "import matplotlib.dates as mpl_dates\n",
    "\n",
    "# Reset plot style\n",
    "#lt.rcParams.update(plt.rcParamsDefault)\n",
    "\n",
    "# Import data from csv\n",
    "df = pd.read_csv('clean_df.csv', index_col=0, parse_dates=True, dayfirst=True)\n",
    "\n",
    "# Review the first 5 rows of the dataframe\n",
    "df.head()"
   ]
  },
  {
   "cell_type": "markdown",
   "metadata": {},
   "source": [
    "### 2. Descriptive Statistical analysis"
   ]
  },
  {
   "cell_type": "code",
   "execution_count": 539,
   "metadata": {},
   "outputs": [
    {
     "name": "stdout",
     "output_type": "stream",
     "text": [
      "<class 'pandas.core.frame.DataFrame'>\n",
      "DatetimeIndex: 128 entries, 2023-11-01 to 2024-04-05\n",
      "Data columns (total 14 columns):\n",
      " #   Column                Non-Null Count  Dtype  \n",
      "---  ------                --------------  -----  \n",
      " 0   time                  128 non-null    object \n",
      " 1   weight                128 non-null    float64\n",
      " 2   bmi                   128 non-null    float64\n",
      " 3   body_fat              128 non-null    float64\n",
      " 4   fat_free_body_weight  128 non-null    float64\n",
      " 5   sub_fat               128 non-null    float64\n",
      " 6   vis_fat               128 non-null    float64\n",
      " 7   body_water            128 non-null    float64\n",
      " 8   ske_muscle            128 non-null    float64\n",
      " 9   muscle_mass           128 non-null    float64\n",
      " 10  bone_mass             128 non-null    float64\n",
      " 11  protein               128 non-null    float64\n",
      " 12  bmr                   128 non-null    int64  \n",
      " 13  age                   128 non-null    int64  \n",
      "dtypes: float64(11), int64(2), object(1)\n",
      "memory usage: 15.0+ KB\n"
     ]
    }
   ],
   "source": [
    "# Review quick snapshot of data to ensure everything has loaded as expected\n",
    "df.info()"
   ]
  },
  {
   "cell_type": "code",
   "execution_count": 540,
   "metadata": {},
   "outputs": [
    {
     "data": {
      "text/plain": [
       "count    128.000000\n",
       "mean     162.307813\n",
       "std        2.098204\n",
       "min      158.400000\n",
       "25%      160.600000\n",
       "50%      162.200000\n",
       "75%      163.800000\n",
       "max      167.400000\n",
       "Name: weight, dtype: float64"
      ]
     },
     "execution_count": 540,
     "metadata": {},
     "output_type": "execute_result"
    }
   ],
   "source": [
    "# Review basic statistics for the weight column\n",
    "df['weight'].describe()"
   ]
  },
  {
   "cell_type": "code",
   "execution_count": 541,
   "metadata": {},
   "outputs": [
    {
     "data": {
      "text/plain": [
       "163.6    7\n",
       "161.2    6\n",
       "159.4    6\n",
       "163.4    6\n",
       "161.8    5\n",
       "160.4    5\n",
       "160.8    5\n",
       "162.6    5\n",
       "161.0    5\n",
       "160.2    5\n",
       "162.2    5\n",
       "164.0    5\n",
       "163.8    4\n",
       "161.6    4\n",
       "163.2    4\n",
       "160.0    4\n",
       "164.2    4\n",
       "159.2    4\n",
       "161.4    4\n",
       "162.4    3\n",
       "165.8    3\n",
       "164.4    3\n",
       "165.2    3\n",
       "164.6    3\n",
       "160.6    2\n",
       "165.6    2\n",
       "159.8    2\n",
       "166.4    2\n",
       "159.6    2\n",
       "159.0    1\n",
       "158.8    1\n",
       "167.4    1\n",
       "162.8    1\n",
       "166.2    1\n",
       "165.4    1\n",
       "166.8    1\n",
       "165.0    1\n",
       "166.6    1\n",
       "158.4    1\n",
       "Name: weight, dtype: int64"
      ]
     },
     "execution_count": 541,
     "metadata": {},
     "output_type": "execute_result"
    }
   ],
   "source": [
    "# Review count of weight column values\n",
    "df['weight'].value_counts()"
   ]
  },
  {
   "cell_type": "markdown",
   "metadata": {},
   "source": [
    "### 3. Plot weigh trend over time\n",
    "#### Line plot"
   ]
  },
  {
   "cell_type": "code",
   "execution_count": 555,
   "metadata": {},
   "outputs": [
    {
     "data": {
      "image/png": "[encoded data removed]",
      "text/plain": [
       "<Figure size 640x480 with 1 Axes>"
      ]
     },
     "metadata": {},
     "output_type": "display_data"
    }
   ],
   "source": [
    "# Define plot style to use\n",
    "plt.style.use('seaborn-v0_8-whitegrid')\n",
    "\n",
    "# Use the weight column of the dataframe to plot\n",
    "plt.plot_date(df.index, df.weight, linestyle='solid')\n",
    "\n",
    "# Set axis range for the Y axis using min & max values with buffer\n",
    "plt.ylim(df.weight.min() - 0.75, df.weight.max() + 0.75) \n",
    "\n",
    "# Define date format as day, month, year\n",
    "date_format = mpl_dates.DateFormatter('%d %b %Y')\n",
    "\n",
    "# Apply date format to the X axis\n",
    "plt.gca().xaxis.set_major_formatter(date_format)\n",
    "\n",
    "# Rotate the ticks on the X axis so dates are easier to read\n",
    "plt.xticks(rotation=30)\n",
    "\n",
    "# Add plot title and axis labels for context\n",
    "plt.title('Weight Trend: 1st Nov 2023-4th Apr 2024')\n",
    "plt.ylabel('Weight (lbs)')\n",
    "plt.xlabel('Dates')\n",
    "\n",
    "# Add annotation for start date\n",
    "plt.text(df.index[0], df.weight.max(), ' 1st Nov: Start')\n",
    "\n",
    "# Enable tight laytout so padding is consistent\n",
    "plt.tight_layout()\n",
    "\n",
    "# Display plot\n",
    "plt.show()"
   ]
  },
  {
   "cell_type": "code",
   "execution_count": 543,
   "metadata": {},
   "outputs": [],
   "source": [
    "# TODO: Weight: Month by month plot\n",
    "\n",
    "# Get each month's data using index, range\n",
    "# Save as variable\n",
    "# Plot variable\n",
    "# Set date format"
   ]
  },
  {
   "cell_type": "code",
   "execution_count": 544,
   "metadata": {},
   "outputs": [],
   "source": [
    "# TODO: Weight: Day of the week plot mean"
   ]
  },
  {
   "cell_type": "code",
   "execution_count": 545,
   "metadata": {},
   "outputs": [],
   "source": [
    "# TODO: Weight, body fat, muscle mass area plot"
   ]
  },
  {
   "cell_type": "markdown",
   "metadata": {},
   "source": [
    "#### Histogram"
   ]
  },
  {
   "cell_type": "code",
   "execution_count": 546,
   "metadata": {},
   "outputs": [
    {
     "name": "stdout",
     "output_type": "stream",
     "text": [
      "[ 7 19 17 19 14 17 19  5  8  3]\n",
      "[158.4 159.3 160.2 161.1 162.  162.9 163.8 164.7 165.6 166.5 167.4]\n"
     ]
    }
   ],
   "source": [
    "# Get a list of bin intervals and counts of values\n",
    "count, bin_edges = np.histogram(df.weight)\n",
    "\n",
    "# Review frequency of values in each bin interval\n",
    "print(count)\n",
    "\n",
    "# Review list of bin intervals\n",
    "print(bin_edges)"
   ]
  },
  {
   "cell_type": "markdown",
   "metadata": {},
   "source": [
    "####  Whole time series"
   ]
  },
  {
   "cell_type": "code",
   "execution_count": 547,
   "metadata": {},
   "outputs": [
    {
     "data": {
      "image/png": "[encoded data removed]",
      "text/plain": [
       "<Figure size 1000x600 with 1 Axes>"
      ]
     },
     "metadata": {},
     "output_type": "display_data"
    }
   ],
   "source": [
    "# Plot histogram\n",
    "df.weight.plot(kind='hist', #Set type of plot as histogram\n",
    "               figsize=(10,6), # Set height and width\n",
    "               xticks=bin_edges) # Match x-axis labels with bin intervals\n",
    "               #yticks= # TODO: Change yticks to integer\n",
    "\n",
    "# Set axis range for the Y axis\n",
    "plt.ylim(0, count.max() + 1) # Add buffer in axis range\n",
    "\n",
    "# Add plot title and axis labels for context\n",
    "plt.title('Histogram of Weight Frequency: 1st Nov 2023-5th April 2024')\n",
    "plt.ylabel('Count')\n",
    "plt.xlabel('Weight (lbs)')\n",
    "\n",
    "# TODO: Add value label\n",
    "# for index, value in enumerate(bin_edges):\n",
    "#     label = format(int(value))\n",
    "#     plt.annotate(label, xy=(value, index), color='black')\n",
    "\n",
    "# Display plot\n",
    "plt.show()"
   ]
  },
  {
   "cell_type": "code",
   "execution_count": 548,
   "metadata": {},
   "outputs": [],
   "source": [
    "# TODO: Weight: Month vs month sub plot\n",
    "\n",
    "# fig = plt.figure(figsize=(6, 6))\n",
    "\n",
    "# axs1 = fig.add_subplot(2, 2, 1)\n",
    "# axs1.plot(total_immigrants)\n",
    "# axs1.set_title(\"Line plot on immigrants\")\n",
    "\n",
    "# axs2 = fig.add_subplot(2, 2, 2)\n",
    "# axs2.barh(total_immigrants.index, total_immigrants)\n",
    "# axs2.set_title(\"Bar plot on immigrants\")\n",
    "\n",
    "# axs3 = fig.add_subplot(2, 2, 3)\n",
    "# axs3.plot(total_immigrants)\n",
    "# axs3.set_title(\"Line plot on immigrants 2x2\")\n",
    "\n",
    "# axs4 = fig.add_subplot(2, 2, 4)\n",
    "# axs4.plot(total_immigrants)\n",
    "# axs4.set_title(\"Line plot on immigrants 2x2\")\n",
    "\n",
    "# fig.tight_layout()\n",
    "\n",
    "# plt.show()"
   ]
  },
  {
   "cell_type": "code",
   "execution_count": 549,
   "metadata": {},
   "outputs": [],
   "source": [
    "# TODO: Weight: Day of the week plot"
   ]
  },
  {
   "cell_type": "code",
   "execution_count": 550,
   "metadata": {},
   "outputs": [],
   "source": [
    "# TODO: Get mean weight for each month\n",
    "# df.weight.resample('M').mean()"
   ]
  },
  {
   "cell_type": "code",
   "execution_count": 551,
   "metadata": {},
   "outputs": [],
   "source": [
    "# # Review basic statistics for object variables\n",
    "# df.describe(include=['object'])"
   ]
  },
  {
   "cell_type": "code",
   "execution_count": 552,
   "metadata": {},
   "outputs": [],
   "source": [
    "# # Create a scatter plot of CPU_frequency and price columns\n",
    "# sns.regplot(x=\"CPU_frequency\", y=\"Price\", data=df)\n",
    "# plt.ylim(0,)"
   ]
  },
  {
   "cell_type": "code",
   "execution_count": 553,
   "metadata": {},
   "outputs": [],
   "source": [
    "# # Find the correlation between CPU_frequency and price columns\n",
    "# df[[\"CPU_frequency\", \"Price\"]].corr()"
   ]
  },
  {
   "cell_type": "code",
   "execution_count": 554,
   "metadata": {},
   "outputs": [],
   "source": [
    "# # Create a box plot to look at the relationship between category and price\n",
    "# sns.boxplot(x=\"Category\", y=\"Price\", data=df)"
   ]
  }
 ],
 "metadata": {
  "kernelspec": {
   "display_name": "base",
   "language": "python",
   "name": "python3"
  },
  "language_info": {
   "codemirror_mode": {
    "name": "ipython",
    "version": 3
   },
   "file_extension": ".py",
   "mimetype": "text/x-python",
   "name": "python",
   "nbconvert_exporter": "python",
   "pygments_lexer": "ipython3",
   "version": "3.11.8"
  }
 },
 "nbformat": 4,
 "nbformat_minor": 2
}
