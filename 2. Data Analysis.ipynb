{
 "cells": [
  {
   "cell_type": "markdown",
   "metadata": {},
   "source": [
    "# Data Analysis"
   ]
  },
  {
   "cell_type": "markdown",
   "metadata": {},
   "source": [
    "### 1. Load the Data from clean CSV"
   ]
  },
  {
   "cell_type": "code",
   "execution_count": null,
   "metadata": {},
   "outputs": [],
   "source": [
    "# Import pandas to extract the data\n",
    "import pandas as pd\n",
    "\n",
    "# Import numpy to manipulate the data\n",
    "import numpy as np\n",
    "\n",
    "# Import matplotlib for visual analysis\n",
    "%matplotlib inline\n",
    "import matplotlib as mpl\n",
    "import matplotlib.pyplot as plt\n",
    "import matplotlib.dates as mpl_dates\n",
    "\n",
    "# Import data from csv\n",
    "df = pd.read_csv('clean_df.csv', index_col=0, parse_dates=True, dayfirst=True)\n",
    "\n",
    "# Review the first 5 rows of the dataframe\n",
    "df.head()"
   ]
  },
  {
   "cell_type": "markdown",
   "metadata": {},
   "source": [
    "### 2. Descriptive Statistical analysis"
   ]
  },
  {
   "cell_type": "code",
   "execution_count": null,
   "metadata": {},
   "outputs": [],
   "source": [
    "# Review quick snapshot of data to ensure everything has loaded as expected\n",
    "df.info()"
   ]
  },
  {
   "cell_type": "code",
   "execution_count": null,
   "metadata": {},
   "outputs": [],
   "source": [
    "# Review basic statistics for the weight column\n",
    "df['weight'].describe()"
   ]
  },
  {
   "cell_type": "code",
   "execution_count": null,
   "metadata": {},
   "outputs": [],
   "source": [
    "# Review count of weight column values\n",
    "df['weight'].value_counts()"
   ]
  },
  {
   "cell_type": "markdown",
   "metadata": {},
   "source": [
    "### 3. Plot weigh trend over time"
   ]
  },
  {
   "cell_type": "code",
   "execution_count": null,
   "metadata": {},
   "outputs": [],
   "source": [
    "# Plot weight trend over time\n",
    "\n",
    "# Reset plot style\n",
    "#lt.rcParams.update(plt.rcParamsDefault)\n",
    "\n",
    "# Define plot style to use\n",
    "plt.style.use('seaborn-v0_8-whitegrid')\n",
    "\n",
    "# Use the weight column of the dataframe to plot\n",
    "plt.plot_date(df.index, df.weight, linestyle='solid') # Specify plot type as line\n",
    "                  #figsize=(10,5), # Specify the height and width\n",
    "                  #marker='o') # Add marker for the value points\n",
    "                  #color='darkblue', # Specify color for the line\n",
    "                  #linewidth='1.5', # Specify width for the line\n",
    "                  #label='Weight (lbs)') # Add label\n",
    "\n",
    "# Set axis range for the Y axis\n",
    "plt.ylim(158.0, 168.0)\n",
    "\n",
    "# Define date format as day, month, year\n",
    "date_format = mpl_dates.DateFormatter('%d %b %Y')\n",
    "\n",
    "# Apply date format to the X axis\n",
    "plt.gca().xaxis.set_major_formatter(date_format)\n",
    "\n",
    "# Rotate the ticks on the X axis so dates are easier to read\n",
    "plt.xticks(rotation=30)\n",
    "\n",
    "# Add plot title and axis labels for context\n",
    "plt.title('Weight Trend: 1st Nov 2023-4th Apr 2024')\n",
    "plt.ylabel('Weight (lbs)')\n",
    "plt.xlabel('Dates')\n",
    "\n",
    "# Add annotation for start date\n",
    "plt.text(df.index[1], 167.3, ' 1st Nov: Start')\n",
    "\n",
    "# Enable tight laytout so padding is consistent\n",
    "plt.tight_layout()\n",
    "\n",
    "# Display plot\n",
    "plt.show()"
   ]
  },
  {
   "cell_type": "code",
   "execution_count": null,
   "metadata": {},
   "outputs": [],
   "source": [
    "# # Build a bin array with a minimum value to a maximum value with 5 dividers for 4 bins\n",
    "# bins = np.linspace(min(df[\"weight\"]), max(df[\"weight\"]), 5)\n",
    "\n",
    "# # View bins\n",
    "# bins"
   ]
  },
  {
   "cell_type": "code",
   "execution_count": null,
   "metadata": {},
   "outputs": [],
   "source": [
    "# # Determine what bin each value belongs to\n",
    "# df['weight-binned'] = pd.cut(df['weight'], bins, include_lowest=True)\n",
    "\n",
    "# # Retrieve the first 20 values\n",
    "# df[['weight','weight-binned']].head(20)"
   ]
  },
  {
   "cell_type": "code",
   "execution_count": null,
   "metadata": {},
   "outputs": [],
   "source": [
    "# See the number of vehicles in each bin\n",
    "# df[\"weight-binned\"].value_counts()"
   ]
  },
  {
   "cell_type": "code",
   "execution_count": null,
   "metadata": {},
   "outputs": [],
   "source": [
    "# step = 50\n",
    "# bin_range = np.arange(-200, 1000+step, step)\n",
    "# out, bins  = pd.cut(step, bins=bin_range, include_lowest=True, right=False, retbins=True)\n",
    "# out.value_counts().plot.bar()"
   ]
  },
  {
   "cell_type": "code",
   "execution_count": null,
   "metadata": {},
   "outputs": [],
   "source": [
    "# Plot weight frequency\n",
    "plt.hist(df.weight,\n",
    "         bins=np.arange(min(df.weight), max(df.weight), 1),\n",
    "         linewidth = 2,\n",
    "         edgecolor= \"white\")\n",
    "\n",
    "# Set axis range for the X axis\n",
    "plt.xlim(min(df.weight), max(df.weight))\n",
    "\n",
    "plt.xticks(np.linspace(min(df.weight), max(df.weight), num=5))\n",
    "\n",
    "# Add plot title and axis labels for context\n",
    "plt.title('Weight Frequency: 1st Nov 2023-4th Apr 2024')\n",
    "plt.xlabel('Weight (lbs)')\n",
    "plt.ylabel('Frequency')\n",
    "\n",
    "# Display plot\n",
    "plt.show()"
   ]
  },
  {
   "cell_type": "markdown",
   "metadata": {},
   "source": [
    "### 4. Create Histograms for each month"
   ]
  },
  {
   "cell_type": "code",
   "execution_count": null,
   "metadata": {},
   "outputs": [],
   "source": [
    "# Get mean weight for each month\n",
    "df.weight.resample('D').mean().plot()"
   ]
  },
  {
   "cell_type": "code",
   "execution_count": null,
   "metadata": {},
   "outputs": [],
   "source": [
    "# Review basic statistics for object variables\n",
    "df.describe(include=['object'])"
   ]
  },
  {
   "cell_type": "code",
   "execution_count": null,
   "metadata": {},
   "outputs": [],
   "source": [
    "# Create a scatter plot of CPU_frequency and price columns\n",
    "sns.regplot(x=\"CPU_frequency\", y=\"Price\", data=df)\n",
    "plt.ylim(0,)"
   ]
  },
  {
   "cell_type": "code",
   "execution_count": null,
   "metadata": {},
   "outputs": [],
   "source": [
    "# Find the correlation between CPU_frequency and price columns\n",
    "df[[\"CPU_frequency\", \"Price\"]].corr()"
   ]
  },
  {
   "cell_type": "code",
   "execution_count": null,
   "metadata": {},
   "outputs": [],
   "source": [
    "# Create a box plot to look at the relationship between category and price\n",
    "sns.boxplot(x=\"Category\", y=\"Price\", data=df)"
   ]
  },
  {
   "cell_type": "code",
   "execution_count": null,
   "metadata": {},
   "outputs": [],
   "source": [
    "# Create dataframe using weight column\n",
    "df_weight = df[['weight']]\n",
    "df_weight"
   ]
  }
 ],
 "metadata": {
  "kernelspec": {
   "display_name": "base",
   "language": "python",
   "name": "python3"
  },
  "language_info": {
   "codemirror_mode": {
    "name": "ipython",
    "version": 3
   },
   "file_extension": ".py",
   "mimetype": "text/x-python",
   "name": "python",
   "nbconvert_exporter": "python",
   "pygments_lexer": "ipython3",
   "version": "3.11.8"
  }
 },
 "nbformat": 4,
 "nbformat_minor": 2
}
