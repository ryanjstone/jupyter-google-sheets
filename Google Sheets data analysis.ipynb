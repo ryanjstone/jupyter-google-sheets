{
 "cells": [
  {
   "cell_type": "markdown",
   "metadata": {},
   "source": [
    "# Data Analysis"
   ]
  },
  {
   "cell_type": "markdown",
   "metadata": {},
   "source": [
    "### 1. Load the Data from Google Sheets"
   ]
  },
  {
   "cell_type": "code",
   "execution_count": 787,
   "metadata": {},
   "outputs": [],
   "source": [
    "# Import python library gspread to read the Google Sheet\n",
    "import gspread"
   ]
  },
  {
   "cell_type": "code",
   "execution_count": 788,
   "metadata": {},
   "outputs": [],
   "source": [
    "# Use the service_account method to give service account details to gspread\n",
    "sa = gspread.service_account(filename=\"extended-pagoda-419111-6c5d3c5c6b77.json\")"
   ]
  },
  {
   "cell_type": "code",
   "execution_count": 789,
   "metadata": {},
   "outputs": [],
   "source": [
    "# Use the sa gspread client to connect to the Google Sheet\n",
    "sheet = sa.open(\"2024: Body Composition Tracking\")\n",
    "\n",
    "# Use the worksheet method to define worksheet to open\n",
    "work_sheet = sheet.worksheet(\"Weighings\")"
   ]
  },
  {
   "cell_type": "code",
   "execution_count": 790,
   "metadata": {},
   "outputs": [],
   "source": [
    "# Import pandas to extract the data\n",
    "import pandas as pd\n",
    "\n",
    "# Import numpy to manipulate the data\n",
    "import numpy as np\n",
    "\n",
    "# Use the get_all_records to extract the data to a dataframe\n",
    "df = pd.DataFrame(work_sheet.get_all_records())"
   ]
  },
  {
   "cell_type": "markdown",
   "metadata": {},
   "source": [
    "### 2. Understanding the Data"
   ]
  },
  {
   "cell_type": "code",
   "execution_count": 791,
   "metadata": {},
   "outputs": [
    {
     "name": "stdout",
     "output_type": "stream",
     "text": [
      "(190, 16)\n"
     ]
    }
   ],
   "source": [
    "# Review the dimensions of the dataset\n",
    "print(df.shape)"
   ]
  },
  {
   "cell_type": "code",
   "execution_count": 792,
   "metadata": {},
   "outputs": [
    {
     "data": {
      "text/plain": [
       "                        object\n",
       "DATE                    object\n",
       "TIME                    object\n",
       "WEIGHT                  object\n",
       "BMI                     object\n",
       "BODY FAT                object\n",
       "FAT-FREE BODY WEIGHT    object\n",
       "SUB FAT                 object\n",
       "VIS FAT                 object\n",
       "BODY WATER              object\n",
       "SKE MUSCLE              object\n",
       "MUSCLE MASS             object\n",
       "BONE MASS               object\n",
       "PROTEIN                 object\n",
       "BMR                     object\n",
       "AGE                     object\n",
       "dtype: object"
      ]
     },
     "execution_count": 792,
     "metadata": {},
     "output_type": "execute_result"
    }
   ],
   "source": [
    "# Look at the data types for each column\n",
    "df.dtypes"
   ]
  },
  {
   "cell_type": "code",
   "execution_count": 793,
   "metadata": {},
   "outputs": [
    {
     "data": {
      "text/html": [
       "<div>\n",
       "<style scoped>\n",
       "    .dataframe tbody tr th:only-of-type {\n",
       "        vertical-align: middle;\n",
       "    }\n",
       "\n",
       "    .dataframe tbody tr th {\n",
       "        vertical-align: top;\n",
       "    }\n",
       "\n",
       "    .dataframe thead th {\n",
       "        text-align: right;\n",
       "    }\n",
       "</style>\n",
       "<table border=\"1\" class=\"dataframe\">\n",
       "  <thead>\n",
       "    <tr style=\"text-align: right;\">\n",
       "      <th></th>\n",
       "      <th></th>\n",
       "      <th>DATE</th>\n",
       "      <th>TIME</th>\n",
       "      <th>WEIGHT</th>\n",
       "      <th>BMI</th>\n",
       "      <th>BODY FAT</th>\n",
       "      <th>FAT-FREE BODY WEIGHT</th>\n",
       "      <th>SUB FAT</th>\n",
       "      <th>VIS FAT</th>\n",
       "      <th>BODY WATER</th>\n",
       "      <th>SKE MUSCLE</th>\n",
       "      <th>MUSCLE MASS</th>\n",
       "      <th>BONE MASS</th>\n",
       "      <th>PROTEIN</th>\n",
       "      <th>BMR</th>\n",
       "      <th>AGE</th>\n",
       "    </tr>\n",
       "  </thead>\n",
       "  <tbody>\n",
       "    <tr>\n",
       "      <th>0</th>\n",
       "      <td></td>\n",
       "      <td>1 Nov</td>\n",
       "      <td>07:03</td>\n",
       "      <td>167.4</td>\n",
       "      <td>24.8</td>\n",
       "      <td>24.1%</td>\n",
       "      <td>127.1</td>\n",
       "      <td>16.2%</td>\n",
       "      <td>9.5</td>\n",
       "      <td>52.0%</td>\n",
       "      <td>52.2%</td>\n",
       "      <td>119.0</td>\n",
       "      <td>6.5</td>\n",
       "      <td>19.9%</td>\n",
       "      <td>1619</td>\n",
       "      <td>38</td>\n",
       "    </tr>\n",
       "    <tr>\n",
       "      <th>1</th>\n",
       "      <td></td>\n",
       "      <td>2 Nov</td>\n",
       "      <td>07:03</td>\n",
       "      <td>166.2</td>\n",
       "      <td>24.6</td>\n",
       "      <td>23.8%</td>\n",
       "      <td>126.6</td>\n",
       "      <td>16.0%</td>\n",
       "      <td>9.4</td>\n",
       "      <td>52.2%</td>\n",
       "      <td>52.4%</td>\n",
       "      <td>118.6</td>\n",
       "      <td>6.6</td>\n",
       "      <td>20.0%</td>\n",
       "      <td>1614</td>\n",
       "      <td>38</td>\n",
       "    </tr>\n",
       "    <tr>\n",
       "      <th>2</th>\n",
       "      <td></td>\n",
       "      <td>9 Nov</td>\n",
       "      <td>07:04</td>\n",
       "      <td>166.4</td>\n",
       "      <td>24.6</td>\n",
       "      <td>23.9%</td>\n",
       "      <td>126.6</td>\n",
       "      <td>16.1%</td>\n",
       "      <td>9.4</td>\n",
       "      <td>52.1%</td>\n",
       "      <td>52.3%</td>\n",
       "      <td>118.6</td>\n",
       "      <td>6.6</td>\n",
       "      <td>20.0%</td>\n",
       "      <td>1615</td>\n",
       "      <td>38</td>\n",
       "    </tr>\n",
       "    <tr>\n",
       "      <th>3</th>\n",
       "      <td></td>\n",
       "      <td>16 Nov</td>\n",
       "      <td>07:04</td>\n",
       "      <td>166.6</td>\n",
       "      <td>24.7</td>\n",
       "      <td>24.0%</td>\n",
       "      <td>126.6</td>\n",
       "      <td>16.1%</td>\n",
       "      <td>9.5</td>\n",
       "      <td>52.1%</td>\n",
       "      <td>52.2%</td>\n",
       "      <td>118.6</td>\n",
       "      <td>6.5</td>\n",
       "      <td>20.0%</td>\n",
       "      <td>1616</td>\n",
       "      <td>38</td>\n",
       "    </tr>\n",
       "    <tr>\n",
       "      <th>4</th>\n",
       "      <td></td>\n",
       "      <td>23 Nov</td>\n",
       "      <td>07:03</td>\n",
       "      <td>165.8</td>\n",
       "      <td>24.6</td>\n",
       "      <td>23.8%</td>\n",
       "      <td>126.3</td>\n",
       "      <td>16.0%</td>\n",
       "      <td>9.4</td>\n",
       "      <td>52.2%</td>\n",
       "      <td>52.4%</td>\n",
       "      <td>118.5</td>\n",
       "      <td>6.6</td>\n",
       "      <td>20.1%</td>\n",
       "      <td>1611</td>\n",
       "      <td>38</td>\n",
       "    </tr>\n",
       "  </tbody>\n",
       "</table>\n",
       "</div>"
      ],
      "text/plain": [
       "       DATE   TIME WEIGHT   BMI BODY FAT FAT-FREE BODY WEIGHT SUB FAT VIS FAT  \\\n",
       "0     1 Nov  07:03  167.4  24.8    24.1%                127.1   16.2%     9.5   \n",
       "1     2 Nov  07:03  166.2  24.6    23.8%                126.6   16.0%     9.4   \n",
       "2     9 Nov  07:04  166.4  24.6    23.9%                126.6   16.1%     9.4   \n",
       "3    16 Nov  07:04  166.6  24.7    24.0%                126.6   16.1%     9.5   \n",
       "4    23 Nov  07:03  165.8  24.6    23.8%                126.3   16.0%     9.4   \n",
       "\n",
       "  BODY WATER SKE MUSCLE MUSCLE MASS BONE MASS PROTEIN   BMR AGE  \n",
       "0      52.0%      52.2%       119.0       6.5   19.9%  1619  38  \n",
       "1      52.2%      52.4%       118.6       6.6   20.0%  1614  38  \n",
       "2      52.1%      52.3%       118.6       6.6   20.0%  1615  38  \n",
       "3      52.1%      52.2%       118.6       6.5   20.0%  1616  38  \n",
       "4      52.2%      52.4%       118.5       6.6   20.1%  1611  38  "
      ]
     },
     "execution_count": 793,
     "metadata": {},
     "output_type": "execute_result"
    }
   ],
   "source": [
    "# Read the first 5 rows of the dataset\n",
    "df.head()"
   ]
  },
  {
   "cell_type": "code",
   "execution_count": 794,
   "metadata": {},
   "outputs": [
    {
     "data": {
      "text/html": [
       "<div>\n",
       "<style scoped>\n",
       "    .dataframe tbody tr th:only-of-type {\n",
       "        vertical-align: middle;\n",
       "    }\n",
       "\n",
       "    .dataframe tbody tr th {\n",
       "        vertical-align: top;\n",
       "    }\n",
       "\n",
       "    .dataframe thead th {\n",
       "        text-align: right;\n",
       "    }\n",
       "</style>\n",
       "<table border=\"1\" class=\"dataframe\">\n",
       "  <thead>\n",
       "    <tr style=\"text-align: right;\">\n",
       "      <th></th>\n",
       "      <th></th>\n",
       "      <th>DATE</th>\n",
       "      <th>TIME</th>\n",
       "      <th>WEIGHT</th>\n",
       "      <th>BMI</th>\n",
       "      <th>BODY FAT</th>\n",
       "      <th>FAT-FREE BODY WEIGHT</th>\n",
       "      <th>SUB FAT</th>\n",
       "      <th>VIS FAT</th>\n",
       "      <th>BODY WATER</th>\n",
       "      <th>SKE MUSCLE</th>\n",
       "      <th>MUSCLE MASS</th>\n",
       "      <th>BONE MASS</th>\n",
       "      <th>PROTEIN</th>\n",
       "      <th>BMR</th>\n",
       "      <th>AGE</th>\n",
       "    </tr>\n",
       "  </thead>\n",
       "  <tbody>\n",
       "    <tr>\n",
       "      <th>185</th>\n",
       "      <td></td>\n",
       "      <td>28 May</td>\n",
       "      <td></td>\n",
       "      <td></td>\n",
       "      <td></td>\n",
       "      <td></td>\n",
       "      <td></td>\n",
       "      <td></td>\n",
       "      <td></td>\n",
       "      <td></td>\n",
       "      <td></td>\n",
       "      <td></td>\n",
       "      <td></td>\n",
       "      <td></td>\n",
       "      <td></td>\n",
       "      <td></td>\n",
       "    </tr>\n",
       "    <tr>\n",
       "      <th>186</th>\n",
       "      <td></td>\n",
       "      <td>29 May</td>\n",
       "      <td></td>\n",
       "      <td></td>\n",
       "      <td></td>\n",
       "      <td></td>\n",
       "      <td></td>\n",
       "      <td></td>\n",
       "      <td></td>\n",
       "      <td></td>\n",
       "      <td></td>\n",
       "      <td></td>\n",
       "      <td></td>\n",
       "      <td></td>\n",
       "      <td></td>\n",
       "      <td></td>\n",
       "    </tr>\n",
       "    <tr>\n",
       "      <th>187</th>\n",
       "      <td></td>\n",
       "      <td>30 May</td>\n",
       "      <td></td>\n",
       "      <td></td>\n",
       "      <td></td>\n",
       "      <td></td>\n",
       "      <td></td>\n",
       "      <td></td>\n",
       "      <td></td>\n",
       "      <td></td>\n",
       "      <td></td>\n",
       "      <td></td>\n",
       "      <td></td>\n",
       "      <td></td>\n",
       "      <td></td>\n",
       "      <td></td>\n",
       "    </tr>\n",
       "    <tr>\n",
       "      <th>188</th>\n",
       "      <td></td>\n",
       "      <td>31 May</td>\n",
       "      <td></td>\n",
       "      <td></td>\n",
       "      <td></td>\n",
       "      <td></td>\n",
       "      <td></td>\n",
       "      <td></td>\n",
       "      <td></td>\n",
       "      <td></td>\n",
       "      <td></td>\n",
       "      <td></td>\n",
       "      <td></td>\n",
       "      <td></td>\n",
       "      <td></td>\n",
       "      <td></td>\n",
       "    </tr>\n",
       "    <tr>\n",
       "      <th>189</th>\n",
       "      <td></td>\n",
       "      <td>1 Jun</td>\n",
       "      <td></td>\n",
       "      <td></td>\n",
       "      <td></td>\n",
       "      <td></td>\n",
       "      <td></td>\n",
       "      <td></td>\n",
       "      <td></td>\n",
       "      <td></td>\n",
       "      <td></td>\n",
       "      <td></td>\n",
       "      <td></td>\n",
       "      <td></td>\n",
       "      <td></td>\n",
       "      <td></td>\n",
       "    </tr>\n",
       "  </tbody>\n",
       "</table>\n",
       "</div>"
      ],
      "text/plain": [
       "         DATE TIME WEIGHT BMI BODY FAT FAT-FREE BODY WEIGHT SUB FAT VIS FAT  \\\n",
       "185    28 May                                                                 \n",
       "186    29 May                                                                 \n",
       "187    30 May                                                                 \n",
       "188    31 May                                                                 \n",
       "189     1 Jun                                                                 \n",
       "\n",
       "    BODY WATER SKE MUSCLE MUSCLE MASS BONE MASS PROTEIN BMR AGE  \n",
       "185                                                              \n",
       "186                                                              \n",
       "187                                                              \n",
       "188                                                              \n",
       "189                                                              "
      ]
     },
     "execution_count": 794,
     "metadata": {},
     "output_type": "execute_result"
    }
   ],
   "source": [
    "# Read the last 5 rows of the dataset\n",
    "df.tail()"
   ]
  },
  {
   "cell_type": "code",
   "execution_count": 795,
   "metadata": {},
   "outputs": [
    {
     "data": {
      "text/plain": [
       "['',\n",
       " 'DATE',\n",
       " 'TIME',\n",
       " 'WEIGHT',\n",
       " 'BMI',\n",
       " 'BODY FAT',\n",
       " 'FAT-FREE BODY WEIGHT',\n",
       " 'SUB FAT',\n",
       " 'VIS FAT',\n",
       " 'BODY WATER',\n",
       " 'SKE MUSCLE',\n",
       " 'MUSCLE MASS',\n",
       " 'BONE MASS',\n",
       " 'PROTEIN',\n",
       " 'BMR',\n",
       " 'AGE']"
      ]
     },
     "execution_count": 795,
     "metadata": {},
     "output_type": "execute_result"
    }
   ],
   "source": [
    "# Return a list of column names\n",
    "df.columns.values.tolist()"
   ]
  },
  {
   "cell_type": "markdown",
   "metadata": {},
   "source": [
    "### 3. Check for missing values"
   ]
  },
  {
   "cell_type": "code",
   "execution_count": 796,
   "metadata": {},
   "outputs": [
    {
     "name": "stdout",
     "output_type": "stream",
     "text": [
      "<bound method IndexOpsMixin.tolist of 0       \n",
      "1       \n",
      "2       \n",
      "3       \n",
      "4       \n",
      "      ..\n",
      "185     \n",
      "186     \n",
      "187     \n",
      "188     \n",
      "189     \n",
      "Name: , Length: 190, dtype: object>\n"
     ]
    }
   ],
   "source": [
    "# In the list of columns, there is an empty column with potentially no data\n",
    "# Review the contents of the column\n",
    "print(df[\"\"].tolist)"
   ]
  },
  {
   "cell_type": "code",
   "execution_count": 797,
   "metadata": {},
   "outputs": [
    {
     "data": {
      "text/plain": [
       "array(['DATE', 'TIME', 'WEIGHT', 'BMI', 'BODY FAT',\n",
       "       'FAT-FREE BODY WEIGHT', 'SUB FAT', 'VIS FAT', 'BODY WATER',\n",
       "       'SKE MUSCLE', 'MUSCLE MASS', 'BONE MASS', 'PROTEIN', 'BMR', 'AGE'],\n",
       "      dtype=object)"
      ]
     },
     "execution_count": 797,
     "metadata": {},
     "output_type": "execute_result"
    }
   ],
   "source": [
    "# As the column has no data, this will be dropped\n",
    "df.drop(\"\", axis = 1, inplace=True)\n",
    "\n",
    "# Return column names to see the updated list of columns\n",
    "df.columns.values"
   ]
  },
  {
   "cell_type": "code",
   "execution_count": 798,
   "metadata": {},
   "outputs": [
    {
     "data": {
      "text/plain": [
       "DATE                    0\n",
       "TIME                    0\n",
       "WEIGHT                  0\n",
       "BMI                     0\n",
       "BODY FAT                0\n",
       "FAT-FREE BODY WEIGHT    0\n",
       "SUB FAT                 0\n",
       "VIS FAT                 0\n",
       "BODY WATER              0\n",
       "SKE MUSCLE              0\n",
       "MUSCLE MASS             0\n",
       "BONE MASS               0\n",
       "PROTEIN                 0\n",
       "BMR                     0\n",
       "AGE                     0\n",
       "dtype: int64"
      ]
     },
     "execution_count": 798,
     "metadata": {},
     "output_type": "execute_result"
    }
   ],
   "source": [
    "# Look for missing values\n",
    "df.isnull().sum()"
   ]
  },
  {
   "cell_type": "code",
   "execution_count": 799,
   "metadata": {},
   "outputs": [],
   "source": [
    "# In the tail there are empty strings for some future dates\n",
    "\n",
    "# Find empty strings elsewhere"
   ]
  },
  {
   "cell_type": "code",
   "execution_count": 800,
   "metadata": {},
   "outputs": [
    {
     "data": {
      "text/html": [
       "<div>\n",
       "<style scoped>\n",
       "    .dataframe tbody tr th:only-of-type {\n",
       "        vertical-align: middle;\n",
       "    }\n",
       "\n",
       "    .dataframe tbody tr th {\n",
       "        vertical-align: top;\n",
       "    }\n",
       "\n",
       "    .dataframe thead th {\n",
       "        text-align: right;\n",
       "    }\n",
       "</style>\n",
       "<table border=\"1\" class=\"dataframe\">\n",
       "  <thead>\n",
       "    <tr style=\"text-align: right;\">\n",
       "      <th></th>\n",
       "      <th>DATE</th>\n",
       "      <th>TIME</th>\n",
       "      <th>WEIGHT</th>\n",
       "      <th>BMI</th>\n",
       "      <th>BODY FAT</th>\n",
       "      <th>FAT-FREE BODY WEIGHT</th>\n",
       "      <th>SUB FAT</th>\n",
       "      <th>VIS FAT</th>\n",
       "      <th>BODY WATER</th>\n",
       "      <th>SKE MUSCLE</th>\n",
       "      <th>MUSCLE MASS</th>\n",
       "      <th>BONE MASS</th>\n",
       "      <th>PROTEIN</th>\n",
       "      <th>BMR</th>\n",
       "      <th>AGE</th>\n",
       "    </tr>\n",
       "  </thead>\n",
       "  <tbody>\n",
       "    <tr>\n",
       "      <th>185</th>\n",
       "      <td>28 May</td>\n",
       "      <td>NaN</td>\n",
       "      <td>NaN</td>\n",
       "      <td>NaN</td>\n",
       "      <td>NaN</td>\n",
       "      <td>NaN</td>\n",
       "      <td>NaN</td>\n",
       "      <td>NaN</td>\n",
       "      <td>NaN</td>\n",
       "      <td>NaN</td>\n",
       "      <td>NaN</td>\n",
       "      <td>NaN</td>\n",
       "      <td>NaN</td>\n",
       "      <td>NaN</td>\n",
       "      <td>NaN</td>\n",
       "    </tr>\n",
       "    <tr>\n",
       "      <th>186</th>\n",
       "      <td>29 May</td>\n",
       "      <td>NaN</td>\n",
       "      <td>NaN</td>\n",
       "      <td>NaN</td>\n",
       "      <td>NaN</td>\n",
       "      <td>NaN</td>\n",
       "      <td>NaN</td>\n",
       "      <td>NaN</td>\n",
       "      <td>NaN</td>\n",
       "      <td>NaN</td>\n",
       "      <td>NaN</td>\n",
       "      <td>NaN</td>\n",
       "      <td>NaN</td>\n",
       "      <td>NaN</td>\n",
       "      <td>NaN</td>\n",
       "    </tr>\n",
       "    <tr>\n",
       "      <th>187</th>\n",
       "      <td>30 May</td>\n",
       "      <td>NaN</td>\n",
       "      <td>NaN</td>\n",
       "      <td>NaN</td>\n",
       "      <td>NaN</td>\n",
       "      <td>NaN</td>\n",
       "      <td>NaN</td>\n",
       "      <td>NaN</td>\n",
       "      <td>NaN</td>\n",
       "      <td>NaN</td>\n",
       "      <td>NaN</td>\n",
       "      <td>NaN</td>\n",
       "      <td>NaN</td>\n",
       "      <td>NaN</td>\n",
       "      <td>NaN</td>\n",
       "    </tr>\n",
       "    <tr>\n",
       "      <th>188</th>\n",
       "      <td>31 May</td>\n",
       "      <td>NaN</td>\n",
       "      <td>NaN</td>\n",
       "      <td>NaN</td>\n",
       "      <td>NaN</td>\n",
       "      <td>NaN</td>\n",
       "      <td>NaN</td>\n",
       "      <td>NaN</td>\n",
       "      <td>NaN</td>\n",
       "      <td>NaN</td>\n",
       "      <td>NaN</td>\n",
       "      <td>NaN</td>\n",
       "      <td>NaN</td>\n",
       "      <td>NaN</td>\n",
       "      <td>NaN</td>\n",
       "    </tr>\n",
       "    <tr>\n",
       "      <th>189</th>\n",
       "      <td>1 Jun</td>\n",
       "      <td>NaN</td>\n",
       "      <td>NaN</td>\n",
       "      <td>NaN</td>\n",
       "      <td>NaN</td>\n",
       "      <td>NaN</td>\n",
       "      <td>NaN</td>\n",
       "      <td>NaN</td>\n",
       "      <td>NaN</td>\n",
       "      <td>NaN</td>\n",
       "      <td>NaN</td>\n",
       "      <td>NaN</td>\n",
       "      <td>NaN</td>\n",
       "      <td>NaN</td>\n",
       "      <td>NaN</td>\n",
       "    </tr>\n",
       "  </tbody>\n",
       "</table>\n",
       "</div>"
      ],
      "text/plain": [
       "       DATE TIME  WEIGHT  BMI BODY FAT  FAT-FREE BODY WEIGHT SUB FAT  VIS FAT  \\\n",
       "185  28 May  NaN     NaN  NaN      NaN                   NaN     NaN      NaN   \n",
       "186  29 May  NaN     NaN  NaN      NaN                   NaN     NaN      NaN   \n",
       "187  30 May  NaN     NaN  NaN      NaN                   NaN     NaN      NaN   \n",
       "188  31 May  NaN     NaN  NaN      NaN                   NaN     NaN      NaN   \n",
       "189   1 Jun  NaN     NaN  NaN      NaN                   NaN     NaN      NaN   \n",
       "\n",
       "    BODY WATER SKE MUSCLE  MUSCLE MASS  BONE MASS PROTEIN  BMR  AGE  \n",
       "185        NaN        NaN          NaN        NaN     NaN  NaN  NaN  \n",
       "186        NaN        NaN          NaN        NaN     NaN  NaN  NaN  \n",
       "187        NaN        NaN          NaN        NaN     NaN  NaN  NaN  \n",
       "188        NaN        NaN          NaN        NaN     NaN  NaN  NaN  \n",
       "189        NaN        NaN          NaN        NaN     NaN  NaN  NaN  "
      ]
     },
     "execution_count": 800,
     "metadata": {},
     "output_type": "execute_result"
    }
   ],
   "source": [
    "# As we don't have the data for the empty strings, we will replace them and the empty strings for future dates\n",
    "\n",
    "# Replace with NaN\n",
    "df = df.replace(r'^s*$', np.nan, regex=True)\n",
    "df.tail()"
   ]
  },
  {
   "cell_type": "code",
   "execution_count": 801,
   "metadata": {},
   "outputs": [
    {
     "data": {
      "text/html": [
       "<div>\n",
       "<style scoped>\n",
       "    .dataframe tbody tr th:only-of-type {\n",
       "        vertical-align: middle;\n",
       "    }\n",
       "\n",
       "    .dataframe tbody tr th {\n",
       "        vertical-align: top;\n",
       "    }\n",
       "\n",
       "    .dataframe thead th {\n",
       "        text-align: right;\n",
       "    }\n",
       "</style>\n",
       "<table border=\"1\" class=\"dataframe\">\n",
       "  <thead>\n",
       "    <tr style=\"text-align: right;\">\n",
       "      <th></th>\n",
       "      <th>DATE</th>\n",
       "      <th>TIME</th>\n",
       "      <th>WEIGHT</th>\n",
       "      <th>BMI</th>\n",
       "      <th>BODY FAT</th>\n",
       "      <th>FAT-FREE BODY WEIGHT</th>\n",
       "      <th>SUB FAT</th>\n",
       "      <th>VIS FAT</th>\n",
       "      <th>BODY WATER</th>\n",
       "      <th>SKE MUSCLE</th>\n",
       "      <th>MUSCLE MASS</th>\n",
       "      <th>BONE MASS</th>\n",
       "      <th>PROTEIN</th>\n",
       "      <th>BMR</th>\n",
       "      <th>AGE</th>\n",
       "    </tr>\n",
       "  </thead>\n",
       "  <tbody>\n",
       "    <tr>\n",
       "      <th>126</th>\n",
       "      <td>30 Mar</td>\n",
       "      <td>07:05</td>\n",
       "      <td>159.2</td>\n",
       "      <td>23.6</td>\n",
       "      <td>22.1%</td>\n",
       "      <td>124.0</td>\n",
       "      <td>14.9%</td>\n",
       "      <td>8.7</td>\n",
       "      <td>53.2%</td>\n",
       "      <td>53.5%</td>\n",
       "      <td>116.2</td>\n",
       "      <td>6.5</td>\n",
       "      <td>20.7%</td>\n",
       "      <td>1574.0</td>\n",
       "      <td>38.0</td>\n",
       "    </tr>\n",
       "    <tr>\n",
       "      <th>127</th>\n",
       "      <td>31 Mar</td>\n",
       "      <td>09:47</td>\n",
       "      <td>160.8</td>\n",
       "      <td>23.8</td>\n",
       "      <td>22.6%</td>\n",
       "      <td>124.5</td>\n",
       "      <td>15.2%</td>\n",
       "      <td>8.9</td>\n",
       "      <td>52.9%</td>\n",
       "      <td>53.2%</td>\n",
       "      <td>116.7</td>\n",
       "      <td>6.4</td>\n",
       "      <td>20.5%</td>\n",
       "      <td>1583.0</td>\n",
       "      <td>38.0</td>\n",
       "    </tr>\n",
       "    <tr>\n",
       "      <th>128</th>\n",
       "      <td>1 Apr</td>\n",
       "      <td>07:06</td>\n",
       "      <td>161.2</td>\n",
       "      <td>23.9</td>\n",
       "      <td>22.6%</td>\n",
       "      <td>124.8</td>\n",
       "      <td>15.2%</td>\n",
       "      <td>8.9</td>\n",
       "      <td>52.9%</td>\n",
       "      <td>53.2%</td>\n",
       "      <td>117.0</td>\n",
       "      <td>6.4</td>\n",
       "      <td>20.5%</td>\n",
       "      <td>1585.0</td>\n",
       "      <td>38.0</td>\n",
       "    </tr>\n",
       "    <tr>\n",
       "      <th>129</th>\n",
       "      <td>2 Apr</td>\n",
       "      <td>08:27</td>\n",
       "      <td>160.2</td>\n",
       "      <td>23.7</td>\n",
       "      <td>22.4%</td>\n",
       "      <td>124.3</td>\n",
       "      <td>15.1%</td>\n",
       "      <td>8.8</td>\n",
       "      <td>53.0%</td>\n",
       "      <td>53.3%</td>\n",
       "      <td>116.4</td>\n",
       "      <td>6.4</td>\n",
       "      <td>20.6%</td>\n",
       "      <td>1580.0</td>\n",
       "      <td>38.0</td>\n",
       "    </tr>\n",
       "    <tr>\n",
       "      <th>130</th>\n",
       "      <td>3 Apr</td>\n",
       "      <td>07:04</td>\n",
       "      <td>160.2</td>\n",
       "      <td>23.7</td>\n",
       "      <td>22.4%</td>\n",
       "      <td>124.3</td>\n",
       "      <td>15.1%</td>\n",
       "      <td>8.8</td>\n",
       "      <td>53.0%</td>\n",
       "      <td>53.4%</td>\n",
       "      <td>116.6</td>\n",
       "      <td>6.4</td>\n",
       "      <td>20.6%</td>\n",
       "      <td>1580.0</td>\n",
       "      <td>38.0</td>\n",
       "    </tr>\n",
       "  </tbody>\n",
       "</table>\n",
       "</div>"
      ],
      "text/plain": [
       "       DATE   TIME  WEIGHT   BMI BODY FAT  FAT-FREE BODY WEIGHT SUB FAT  \\\n",
       "126  30 Mar  07:05   159.2  23.6    22.1%                 124.0   14.9%   \n",
       "127  31 Mar  09:47   160.8  23.8    22.6%                 124.5   15.2%   \n",
       "128   1 Apr  07:06   161.2  23.9    22.6%                 124.8   15.2%   \n",
       "129   2 Apr  08:27   160.2  23.7    22.4%                 124.3   15.1%   \n",
       "130   3 Apr  07:04   160.2  23.7    22.4%                 124.3   15.1%   \n",
       "\n",
       "     VIS FAT BODY WATER SKE MUSCLE  MUSCLE MASS  BONE MASS PROTEIN     BMR  \\\n",
       "126      8.7      53.2%      53.5%        116.2        6.5   20.7%  1574.0   \n",
       "127      8.9      52.9%      53.2%        116.7        6.4   20.5%  1583.0   \n",
       "128      8.9      52.9%      53.2%        117.0        6.4   20.5%  1585.0   \n",
       "129      8.8      53.0%      53.3%        116.4        6.4   20.6%  1580.0   \n",
       "130      8.8      53.0%      53.4%        116.6        6.4   20.6%  1580.0   \n",
       "\n",
       "      AGE  \n",
       "126  38.0  \n",
       "127  38.0  \n",
       "128  38.0  \n",
       "129  38.0  \n",
       "130  38.0  "
      ]
     },
     "execution_count": 801,
     "metadata": {},
     "output_type": "execute_result"
    }
   ],
   "source": [
    "# Drop rows that contain NaN\n",
    "df = df.dropna()\n",
    "df.tail()"
   ]
  },
  {
   "cell_type": "code",
   "execution_count": 802,
   "metadata": {},
   "outputs": [
    {
     "data": {
      "text/plain": [
       "DATE                    0\n",
       "TIME                    0\n",
       "WEIGHT                  0\n",
       "BMI                     0\n",
       "BODY FAT                0\n",
       "FAT-FREE BODY WEIGHT    0\n",
       "SUB FAT                 0\n",
       "VIS FAT                 0\n",
       "BODY WATER              0\n",
       "SKE MUSCLE              0\n",
       "MUSCLE MASS             0\n",
       "BONE MASS               0\n",
       "PROTEIN                 0\n",
       "BMR                     0\n",
       "AGE                     0\n",
       "dtype: int64"
      ]
     },
     "execution_count": 802,
     "metadata": {},
     "output_type": "execute_result"
    }
   ],
   "source": [
    "# Validate that there are no remaining NaN values\n",
    "df.isnull().sum()"
   ]
  },
  {
   "cell_type": "markdown",
   "metadata": {},
   "source": [
    "### 4. Data Cleaning"
   ]
  },
  {
   "cell_type": "code",
   "execution_count": 803,
   "metadata": {},
   "outputs": [
    {
     "data": {
      "text/plain": [
       "DATE                     object\n",
       "TIME                     object\n",
       "WEIGHT                  float64\n",
       "BMI                     float64\n",
       "BODY FAT                 object\n",
       "FAT-FREE BODY WEIGHT    float64\n",
       "SUB FAT                  object\n",
       "VIS FAT                 float64\n",
       "BODY WATER               object\n",
       "SKE MUSCLE               object\n",
       "MUSCLE MASS             float64\n",
       "BONE MASS               float64\n",
       "PROTEIN                  object\n",
       "BMR                     float64\n",
       "AGE                     float64\n",
       "dtype: object"
      ]
     },
     "execution_count": 803,
     "metadata": {},
     "output_type": "execute_result"
    }
   ],
   "source": [
    "# Review updated data types for each column\n",
    "df.dtypes"
   ]
  },
  {
   "cell_type": "code",
   "execution_count": 804,
   "metadata": {},
   "outputs": [],
   "source": [
    "# Make columns easier to work with\n",
    "\n",
    "# Update column names to be lowercase\n",
    "df.rename(columns=str.lower, inplace=True)\n",
    "\n",
    "# Replace spaces in column names with hyphens\n",
    "df.columns = df.columns.str.replace(' ', '-')"
   ]
  },
  {
   "cell_type": "code",
   "execution_count": 805,
   "metadata": {},
   "outputs": [],
   "source": [
    "# Update column names related to weight to reflect that values are in lbs\n",
    "df.rename(columns={\"weight\":\"weight(lbs)\", \"fat-free-body-weight\":\"fat-free-weight(lbs)\", \"muscle-mass\":\"muscle-mass(lbs)\",\"bone-mass\":\"bone-mass(lbs)\"}, inplace=True)"
   ]
  },
  {
   "cell_type": "code",
   "execution_count": 806,
   "metadata": {},
   "outputs": [],
   "source": [
    "# Convert columns with percentage values to float data type\n",
    "\n",
    "# Strip out percentage sign\n",
    "df[\"body-fat\"] = df[\"body-fat\"].str.replace(\"%\", \"\")\n",
    "df[\"sub-fat\"] = df[\"sub-fat\"].str.replace(\"%\", \"\")\n",
    "df[\"body-water\"] = df[\"body-water\"].str.replace(\"%\", \"\")\n",
    "df[\"ske-muscle\"] = df[\"ske-muscle\"].str.replace(\"%\", \"\")\n",
    "df[\"protein\"] = df[\"protein\"].str.replace(\"%\", \"\")\n",
    "\n",
    "# Convert percentage columns to floats\n",
    "df[[\"body-fat\", \"sub-fat\"]] = df[[\"body-fat\", \"sub-fat\"]].astype(float)\n",
    "df[[\"body-water\", \"ske-muscle\", \"protein\"]] = df[[\"body-water\", \"ske-muscle\", \"protein\"]].astype(float)\n",
    "\n",
    "# Divide values in percentage columns by 100\n",
    "df[[\"body-fat\", \"sub-fat\", \"body-water\", \"ske-muscle\", \"protein\"]] = df[[\"body-fat\", \"sub-fat\", \"body-water\", \"ske-muscle\", \"protein\"]].div(100)"
   ]
  },
  {
   "cell_type": "code",
   "execution_count": 807,
   "metadata": {},
   "outputs": [],
   "source": [
    "# Update column names to reflect that the column values are percentages\n",
    "df.rename(columns={\"body-fat\":\"body-fat(%)\", \"sub-fat\":\"sub-fat(%)\", \"body-water\":\"body-water(%)\", \"ske-muscle\":\"ske-muscle(%)\", \"protein\":\"protein(%)\"}, inplace=True)"
   ]
  },
  {
   "cell_type": "code",
   "execution_count": 808,
   "metadata": {},
   "outputs": [
    {
     "data": {
      "text/plain": [
       "date                     object\n",
       "time                     object\n",
       "weight(lbs)             float64\n",
       "bmi                     float64\n",
       "body-fat(%)             float64\n",
       "fat-free-weight(lbs)    float64\n",
       "sub-fat(%)              float64\n",
       "vis-fat                 float64\n",
       "body-water(%)           float64\n",
       "ske-muscle(%)           float64\n",
       "muscle-mass(lbs)        float64\n",
       "bone-mass(lbs)          float64\n",
       "protein(%)              float64\n",
       "bmr                     float64\n",
       "age                     float64\n",
       "dtype: object"
      ]
     },
     "execution_count": 808,
     "metadata": {},
     "output_type": "execute_result"
    }
   ],
   "source": [
    "# Review updated data types\n",
    "df.dtypes"
   ]
  },
  {
   "cell_type": "code",
   "execution_count": null,
   "metadata": {},
   "outputs": [],
   "source": [
    "# Convert bmr and age columns to integers\n",
    "df[[\"bmr\", \"age\"]] = df[[\"bmr\", \"age\"]].astype(int)"
   ]
  },
  {
   "cell_type": "code",
   "execution_count": null,
   "metadata": {},
   "outputs": [],
   "source": [
    "#df['time']=pd.to_datetime(df['time'])\n",
    "#df['date']=pd.to_datetime(df['date'])"
   ]
  },
  {
   "cell_type": "code",
   "execution_count": null,
   "metadata": {},
   "outputs": [],
   "source": [
    "# Get a statistical summary of each column\n",
    "df.describe()"
   ]
  }
 ],
 "metadata": {
  "kernelspec": {
   "display_name": "base",
   "language": "python",
   "name": "python3"
  },
  "language_info": {
   "codemirror_mode": {
    "name": "ipython",
    "version": 3
   },
   "file_extension": ".py",
   "mimetype": "text/x-python",
   "name": "python",
   "nbconvert_exporter": "python",
   "pygments_lexer": "ipython3",
   "version": "3.11.8"
  }
 },
 "nbformat": 4,
 "nbformat_minor": 2
}
