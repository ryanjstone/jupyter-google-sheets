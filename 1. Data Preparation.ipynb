{
 "cells": [
  {
   "cell_type": "markdown",
   "metadata": {},
   "source": [
    "# Data Preparation"
   ]
  },
  {
   "cell_type": "markdown",
   "metadata": {},
   "source": [
    "### 1. Load the Data from Google Sheets"
   ]
  },
  {
   "cell_type": "code",
   "execution_count": 172,
   "metadata": {},
   "outputs": [],
   "source": [
    "# Import python library gspread to read the Google Sheet\n",
    "import gspread\n",
    "\n",
    "# Import gspread dataframe to get the data as a dataframe\n",
    "import gspread_dataframe\n",
    "from gspread_dataframe import get_as_dataframe\n",
    "\n",
    "# Import pandas to extract the data\n",
    "import pandas as pd\n",
    "\n",
    "# Import numpy to manipulate the data\n",
    "import numpy as np"
   ]
  },
  {
   "cell_type": "code",
   "execution_count": 173,
   "metadata": {},
   "outputs": [
    {
     "data": {
      "text/html": [
       "<div>\n",
       "<style scoped>\n",
       "    .dataframe tbody tr th:only-of-type {\n",
       "        vertical-align: middle;\n",
       "    }\n",
       "\n",
       "    .dataframe tbody tr th {\n",
       "        vertical-align: top;\n",
       "    }\n",
       "\n",
       "    .dataframe thead th {\n",
       "        text-align: right;\n",
       "    }\n",
       "</style>\n",
       "<table border=\"1\" class=\"dataframe\">\n",
       "  <thead>\n",
       "    <tr style=\"text-align: right;\">\n",
       "      <th></th>\n",
       "      <th>TIME</th>\n",
       "      <th>WEIGHT</th>\n",
       "      <th>BMI</th>\n",
       "      <th>BODY FAT</th>\n",
       "      <th>FAT-FREE BODY WEIGHT</th>\n",
       "      <th>SUB FAT</th>\n",
       "      <th>VIS FAT</th>\n",
       "      <th>BODY WATER</th>\n",
       "      <th>SKE MUSCLE</th>\n",
       "      <th>MUSCLE MASS</th>\n",
       "      <th>BONE MASS</th>\n",
       "      <th>PROTEIN</th>\n",
       "      <th>BMR</th>\n",
       "      <th>AGE</th>\n",
       "    </tr>\n",
       "    <tr>\n",
       "      <th>DATE</th>\n",
       "      <th></th>\n",
       "      <th></th>\n",
       "      <th></th>\n",
       "      <th></th>\n",
       "      <th></th>\n",
       "      <th></th>\n",
       "      <th></th>\n",
       "      <th></th>\n",
       "      <th></th>\n",
       "      <th></th>\n",
       "      <th></th>\n",
       "      <th></th>\n",
       "      <th></th>\n",
       "      <th></th>\n",
       "    </tr>\n",
       "  </thead>\n",
       "  <tbody>\n",
       "    <tr>\n",
       "      <th>2023-11-01</th>\n",
       "      <td>07:03</td>\n",
       "      <td>167.4</td>\n",
       "      <td>24.8</td>\n",
       "      <td>0.241</td>\n",
       "      <td>127.1</td>\n",
       "      <td>0.162</td>\n",
       "      <td>9.5</td>\n",
       "      <td>0.520</td>\n",
       "      <td>0.522</td>\n",
       "      <td>119.0</td>\n",
       "      <td>6.5</td>\n",
       "      <td>0.199</td>\n",
       "      <td>1619.0</td>\n",
       "      <td>38.0</td>\n",
       "    </tr>\n",
       "    <tr>\n",
       "      <th>2023-11-02</th>\n",
       "      <td>07:03</td>\n",
       "      <td>166.2</td>\n",
       "      <td>24.6</td>\n",
       "      <td>0.238</td>\n",
       "      <td>126.6</td>\n",
       "      <td>0.16</td>\n",
       "      <td>9.4</td>\n",
       "      <td>0.522</td>\n",
       "      <td>0.524</td>\n",
       "      <td>118.6</td>\n",
       "      <td>6.6</td>\n",
       "      <td>0.200</td>\n",
       "      <td>1614.0</td>\n",
       "      <td>38.0</td>\n",
       "    </tr>\n",
       "    <tr>\n",
       "      <th>2023-11-09</th>\n",
       "      <td>07:04</td>\n",
       "      <td>166.4</td>\n",
       "      <td>24.6</td>\n",
       "      <td>0.239</td>\n",
       "      <td>126.6</td>\n",
       "      <td>0.161</td>\n",
       "      <td>9.4</td>\n",
       "      <td>0.521</td>\n",
       "      <td>0.523</td>\n",
       "      <td>118.6</td>\n",
       "      <td>6.6</td>\n",
       "      <td>0.200</td>\n",
       "      <td>1615.0</td>\n",
       "      <td>38.0</td>\n",
       "    </tr>\n",
       "    <tr>\n",
       "      <th>2023-11-16</th>\n",
       "      <td>07:04</td>\n",
       "      <td>166.6</td>\n",
       "      <td>24.7</td>\n",
       "      <td>0.240</td>\n",
       "      <td>126.6</td>\n",
       "      <td>0.161</td>\n",
       "      <td>9.5</td>\n",
       "      <td>0.521</td>\n",
       "      <td>0.522</td>\n",
       "      <td>118.6</td>\n",
       "      <td>6.5</td>\n",
       "      <td>0.200</td>\n",
       "      <td>1616.0</td>\n",
       "      <td>38.0</td>\n",
       "    </tr>\n",
       "    <tr>\n",
       "      <th>2023-11-23</th>\n",
       "      <td>07:03</td>\n",
       "      <td>165.8</td>\n",
       "      <td>24.6</td>\n",
       "      <td>0.238</td>\n",
       "      <td>126.3</td>\n",
       "      <td>0.16</td>\n",
       "      <td>9.4</td>\n",
       "      <td>0.522</td>\n",
       "      <td>0.524</td>\n",
       "      <td>118.5</td>\n",
       "      <td>6.6</td>\n",
       "      <td>0.201</td>\n",
       "      <td>1611.0</td>\n",
       "      <td>38.0</td>\n",
       "    </tr>\n",
       "  </tbody>\n",
       "</table>\n",
       "</div>"
      ],
      "text/plain": [
       "             TIME  WEIGHT   BMI  BODY FAT  FAT-FREE BODY WEIGHT SUB FAT  \\\n",
       "DATE                                                                      \n",
       "2023-11-01  07:03   167.4  24.8     0.241                 127.1   0.162   \n",
       "2023-11-02  07:03   166.2  24.6     0.238                 126.6    0.16   \n",
       "2023-11-09  07:04   166.4  24.6     0.239                 126.6   0.161   \n",
       "2023-11-16  07:04   166.6  24.7     0.240                 126.6   0.161   \n",
       "2023-11-23  07:03   165.8  24.6     0.238                 126.3    0.16   \n",
       "\n",
       "            VIS FAT  BODY WATER  SKE MUSCLE  MUSCLE MASS  BONE MASS  PROTEIN  \\\n",
       "DATE                                                                           \n",
       "2023-11-01      9.5       0.520       0.522        119.0        6.5    0.199   \n",
       "2023-11-02      9.4       0.522       0.524        118.6        6.6    0.200   \n",
       "2023-11-09      9.4       0.521       0.523        118.6        6.6    0.200   \n",
       "2023-11-16      9.5       0.521       0.522        118.6        6.5    0.200   \n",
       "2023-11-23      9.4       0.522       0.524        118.5        6.6    0.201   \n",
       "\n",
       "               BMR   AGE  \n",
       "DATE                      \n",
       "2023-11-01  1619.0  38.0  \n",
       "2023-11-02  1614.0  38.0  \n",
       "2023-11-09  1615.0  38.0  \n",
       "2023-11-16  1616.0  38.0  \n",
       "2023-11-23  1611.0  38.0  "
      ]
     },
     "execution_count": 173,
     "metadata": {},
     "output_type": "execute_result"
    }
   ],
   "source": [
    "# Use the service_account method to give service account details to gspread\n",
    "sa = gspread.service_account(filename=\"extended-pagoda-419111-6c5d3c5c6b77.json\")\n",
    "\n",
    "# Use the sa gspread client to connect to the Google Sheet\n",
    "sheet = sa.open(\"2024: Body Composition Tracking\")\n",
    "\n",
    "# Use the worksheet method to define worksheet to read\n",
    "worksheet = sheet.worksheet(\"Weighings\")\n",
    "\n",
    "# Use the get_as_dataframe method to get the data as a dataframe\n",
    "# Specify that the first column in the data should be used as the index, includes dates and is formatted day first\n",
    "df = get_as_dataframe(worksheet, index_col=0, parse_dates=True, dayfirst=True)\n",
    "\n",
    "# Drop rows that are entirely null\n",
    "df = df.dropna(how='all')\n",
    "\n",
    "# Review the first 5 rows of the dataframe\n",
    "df.head()"
   ]
  },
  {
   "cell_type": "markdown",
   "metadata": {},
   "source": [
    "### 2. Understand the Data"
   ]
  },
  {
   "cell_type": "code",
   "execution_count": 174,
   "metadata": {},
   "outputs": [
    {
     "data": {
      "text/plain": [
       "DatetimeIndex(['2023-11-01', '2023-11-02', '2023-11-09', '2023-11-16',\n",
       "               '2023-11-23', '2023-11-30', '2023-12-01', '2023-12-02',\n",
       "               '2023-12-03', '2023-12-04',\n",
       "               ...\n",
       "               '2024-03-27', '2024-03-28', '2024-03-29', '2024-03-30',\n",
       "               '2024-03-31', '2024-04-01', '2024-04-02', '2024-04-03',\n",
       "               '2024-04-04', '2024-04-05'],\n",
       "              dtype='datetime64[ns]', name='DATE', length=129, freq=None)"
      ]
     },
     "execution_count": 174,
     "metadata": {},
     "output_type": "execute_result"
    }
   ],
   "source": [
    "# Review the DatetimeIndex\n",
    "df.index"
   ]
  },
  {
   "cell_type": "code",
   "execution_count": 175,
   "metadata": {},
   "outputs": [
    {
     "data": {
      "text/plain": [
       "(129, 14)"
      ]
     },
     "execution_count": 175,
     "metadata": {},
     "output_type": "execute_result"
    }
   ],
   "source": [
    "# Review the dimensions of the dataset\n",
    "df.shape"
   ]
  },
  {
   "cell_type": "code",
   "execution_count": 176,
   "metadata": {},
   "outputs": [
    {
     "data": {
      "text/plain": [
       "Index(['TIME', 'WEIGHT', 'BMI', 'BODY FAT', 'FAT-FREE BODY WEIGHT', 'SUB FAT',\n",
       "       'VIS FAT', 'BODY WATER', 'SKE MUSCLE', 'MUSCLE MASS', 'BONE MASS',\n",
       "       'PROTEIN', 'BMR', 'AGE'],\n",
       "      dtype='object')"
      ]
     },
     "execution_count": 176,
     "metadata": {},
     "output_type": "execute_result"
    }
   ],
   "source": [
    "# Review the columns in the dataset\n",
    "df.columns"
   ]
  },
  {
   "cell_type": "code",
   "execution_count": 177,
   "metadata": {},
   "outputs": [
    {
     "data": {
      "text/plain": [
       "TIME                     object\n",
       "WEIGHT                  float64\n",
       "BMI                     float64\n",
       "BODY FAT                float64\n",
       "FAT-FREE BODY WEIGHT    float64\n",
       "SUB FAT                  object\n",
       "VIS FAT                 float64\n",
       "BODY WATER              float64\n",
       "SKE MUSCLE              float64\n",
       "MUSCLE MASS             float64\n",
       "BONE MASS               float64\n",
       "PROTEIN                 float64\n",
       "BMR                     float64\n",
       "AGE                     float64\n",
       "dtype: object"
      ]
     },
     "execution_count": 177,
     "metadata": {},
     "output_type": "execute_result"
    }
   ],
   "source": [
    "# Review the data types for each column\n",
    "df.dtypes\n",
    "\n",
    "# Note that the SUB FAT column is an object data type"
   ]
  },
  {
   "cell_type": "code",
   "execution_count": 178,
   "metadata": {},
   "outputs": [
    {
     "name": "stdout",
     "output_type": "stream",
     "text": [
      "<class 'pandas.core.frame.DataFrame'>\n",
      "DatetimeIndex: 129 entries, 2023-11-01 to 2024-04-05\n",
      "Data columns (total 14 columns):\n",
      " #   Column                Non-Null Count  Dtype  \n",
      "---  ------                --------------  -----  \n",
      " 0   TIME                  128 non-null    object \n",
      " 1   WEIGHT                128 non-null    float64\n",
      " 2   BMI                   128 non-null    float64\n",
      " 3   BODY FAT              128 non-null    float64\n",
      " 4   FAT-FREE BODY WEIGHT  128 non-null    float64\n",
      " 5   SUB FAT               129 non-null    object \n",
      " 6   VIS FAT               128 non-null    float64\n",
      " 7   BODY WATER            128 non-null    float64\n",
      " 8   SKE MUSCLE            128 non-null    float64\n",
      " 9   MUSCLE MASS           128 non-null    float64\n",
      " 10  BONE MASS             128 non-null    float64\n",
      " 11  PROTEIN               128 non-null    float64\n",
      " 12  BMR                   128 non-null    float64\n",
      " 13  AGE                   128 non-null    float64\n",
      "dtypes: float64(12), object(2)\n",
      "memory usage: 15.1+ KB\n"
     ]
    }
   ],
   "source": [
    "# Review more information for each column consolidated in one view\n",
    "df.info()\n",
    "\n",
    "# Note the difference in non-null count for SUB FAT columns and the other columns"
   ]
  },
  {
   "cell_type": "code",
   "execution_count": 179,
   "metadata": {},
   "outputs": [
    {
     "data": {
      "text/html": [
       "<div>\n",
       "<style scoped>\n",
       "    .dataframe tbody tr th:only-of-type {\n",
       "        vertical-align: middle;\n",
       "    }\n",
       "\n",
       "    .dataframe tbody tr th {\n",
       "        vertical-align: top;\n",
       "    }\n",
       "\n",
       "    .dataframe thead th {\n",
       "        text-align: right;\n",
       "    }\n",
       "</style>\n",
       "<table border=\"1\" class=\"dataframe\">\n",
       "  <thead>\n",
       "    <tr style=\"text-align: right;\">\n",
       "      <th></th>\n",
       "      <th>WEIGHT</th>\n",
       "      <th>BMI</th>\n",
       "      <th>BODY FAT</th>\n",
       "      <th>FAT-FREE BODY WEIGHT</th>\n",
       "      <th>VIS FAT</th>\n",
       "      <th>BODY WATER</th>\n",
       "      <th>SKE MUSCLE</th>\n",
       "      <th>MUSCLE MASS</th>\n",
       "      <th>BONE MASS</th>\n",
       "      <th>PROTEIN</th>\n",
       "      <th>BMR</th>\n",
       "      <th>AGE</th>\n",
       "    </tr>\n",
       "  </thead>\n",
       "  <tbody>\n",
       "    <tr>\n",
       "      <th>count</th>\n",
       "      <td>128.000000</td>\n",
       "      <td>128.000000</td>\n",
       "      <td>128.000000</td>\n",
       "      <td>128.000000</td>\n",
       "      <td>128.000000</td>\n",
       "      <td>128.000000</td>\n",
       "      <td>128.000000</td>\n",
       "      <td>128.000000</td>\n",
       "      <td>128.000000</td>\n",
       "      <td>128.000000</td>\n",
       "      <td>128.000000</td>\n",
       "      <td>128.000000</td>\n",
       "    </tr>\n",
       "    <tr>\n",
       "      <th>mean</th>\n",
       "      <td>162.307813</td>\n",
       "      <td>24.041406</td>\n",
       "      <td>0.228898</td>\n",
       "      <td>125.144531</td>\n",
       "      <td>8.999219</td>\n",
       "      <td>0.527102</td>\n",
       "      <td>0.530055</td>\n",
       "      <td>117.282813</td>\n",
       "      <td>6.472656</td>\n",
       "      <td>0.203922</td>\n",
       "      <td>1591.671875</td>\n",
       "      <td>37.968750</td>\n",
       "    </tr>\n",
       "    <tr>\n",
       "      <th>std</th>\n",
       "      <td>2.098204</td>\n",
       "      <td>0.314362</td>\n",
       "      <td>0.005186</td>\n",
       "      <td>0.777317</td>\n",
       "      <td>0.210547</td>\n",
       "      <td>0.002869</td>\n",
       "      <td>0.003568</td>\n",
       "      <td>0.732820</td>\n",
       "      <td>0.064862</td>\n",
       "      <td>0.002018</td>\n",
       "      <td>11.866123</td>\n",
       "      <td>0.249014</td>\n",
       "    </tr>\n",
       "    <tr>\n",
       "      <th>min</th>\n",
       "      <td>158.400000</td>\n",
       "      <td>23.500000</td>\n",
       "      <td>0.219000</td>\n",
       "      <td>123.700000</td>\n",
       "      <td>8.600000</td>\n",
       "      <td>0.520000</td>\n",
       "      <td>0.522000</td>\n",
       "      <td>115.900000</td>\n",
       "      <td>6.400000</td>\n",
       "      <td>0.199000</td>\n",
       "      <td>1570.000000</td>\n",
       "      <td>36.000000</td>\n",
       "    </tr>\n",
       "    <tr>\n",
       "      <th>25%</th>\n",
       "      <td>160.600000</td>\n",
       "      <td>23.800000</td>\n",
       "      <td>0.225000</td>\n",
       "      <td>124.500000</td>\n",
       "      <td>8.800000</td>\n",
       "      <td>0.525000</td>\n",
       "      <td>0.527000</td>\n",
       "      <td>116.700000</td>\n",
       "      <td>6.400000</td>\n",
       "      <td>0.202000</td>\n",
       "      <td>1581.750000</td>\n",
       "      <td>38.000000</td>\n",
       "    </tr>\n",
       "    <tr>\n",
       "      <th>50%</th>\n",
       "      <td>162.200000</td>\n",
       "      <td>24.000000</td>\n",
       "      <td>0.229000</td>\n",
       "      <td>125.100000</td>\n",
       "      <td>9.000000</td>\n",
       "      <td>0.527000</td>\n",
       "      <td>0.530000</td>\n",
       "      <td>117.200000</td>\n",
       "      <td>6.500000</td>\n",
       "      <td>0.204000</td>\n",
       "      <td>1591.500000</td>\n",
       "      <td>38.000000</td>\n",
       "    </tr>\n",
       "    <tr>\n",
       "      <th>75%</th>\n",
       "      <td>163.800000</td>\n",
       "      <td>24.300000</td>\n",
       "      <td>0.233000</td>\n",
       "      <td>125.725000</td>\n",
       "      <td>9.200000</td>\n",
       "      <td>0.529000</td>\n",
       "      <td>0.533000</td>\n",
       "      <td>117.800000</td>\n",
       "      <td>6.500000</td>\n",
       "      <td>0.205250</td>\n",
       "      <td>1600.000000</td>\n",
       "      <td>38.000000</td>\n",
       "    </tr>\n",
       "    <tr>\n",
       "      <th>max</th>\n",
       "      <td>167.400000</td>\n",
       "      <td>24.800000</td>\n",
       "      <td>0.241000</td>\n",
       "      <td>127.100000</td>\n",
       "      <td>9.500000</td>\n",
       "      <td>0.532000</td>\n",
       "      <td>0.537000</td>\n",
       "      <td>119.000000</td>\n",
       "      <td>6.600000</td>\n",
       "      <td>0.208000</td>\n",
       "      <td>1619.000000</td>\n",
       "      <td>38.000000</td>\n",
       "    </tr>\n",
       "  </tbody>\n",
       "</table>\n",
       "</div>"
      ],
      "text/plain": [
       "           WEIGHT         BMI    BODY FAT  FAT-FREE BODY WEIGHT     VIS FAT  \\\n",
       "count  128.000000  128.000000  128.000000            128.000000  128.000000   \n",
       "mean   162.307813   24.041406    0.228898            125.144531    8.999219   \n",
       "std      2.098204    0.314362    0.005186              0.777317    0.210547   \n",
       "min    158.400000   23.500000    0.219000            123.700000    8.600000   \n",
       "25%    160.600000   23.800000    0.225000            124.500000    8.800000   \n",
       "50%    162.200000   24.000000    0.229000            125.100000    9.000000   \n",
       "75%    163.800000   24.300000    0.233000            125.725000    9.200000   \n",
       "max    167.400000   24.800000    0.241000            127.100000    9.500000   \n",
       "\n",
       "       BODY WATER  SKE MUSCLE  MUSCLE MASS   BONE MASS     PROTEIN  \\\n",
       "count  128.000000  128.000000   128.000000  128.000000  128.000000   \n",
       "mean     0.527102    0.530055   117.282813    6.472656    0.203922   \n",
       "std      0.002869    0.003568     0.732820    0.064862    0.002018   \n",
       "min      0.520000    0.522000   115.900000    6.400000    0.199000   \n",
       "25%      0.525000    0.527000   116.700000    6.400000    0.202000   \n",
       "50%      0.527000    0.530000   117.200000    6.500000    0.204000   \n",
       "75%      0.529000    0.533000   117.800000    6.500000    0.205250   \n",
       "max      0.532000    0.537000   119.000000    6.600000    0.208000   \n",
       "\n",
       "               BMR         AGE  \n",
       "count   128.000000  128.000000  \n",
       "mean   1591.671875   37.968750  \n",
       "std      11.866123    0.249014  \n",
       "min    1570.000000   36.000000  \n",
       "25%    1581.750000   38.000000  \n",
       "50%    1591.500000   38.000000  \n",
       "75%    1600.000000   38.000000  \n",
       "max    1619.000000   38.000000  "
      ]
     },
     "execution_count": 179,
     "metadata": {},
     "output_type": "execute_result"
    }
   ],
   "source": [
    "# Review basis statistics for all continuous variables\n",
    "df.describe()"
   ]
  },
  {
   "cell_type": "code",
   "execution_count": 180,
   "metadata": {},
   "outputs": [
    {
     "data": {
      "text/html": [
       "<div>\n",
       "<style scoped>\n",
       "    .dataframe tbody tr th:only-of-type {\n",
       "        vertical-align: middle;\n",
       "    }\n",
       "\n",
       "    .dataframe tbody tr th {\n",
       "        vertical-align: top;\n",
       "    }\n",
       "\n",
       "    .dataframe thead th {\n",
       "        text-align: right;\n",
       "    }\n",
       "</style>\n",
       "<table border=\"1\" class=\"dataframe\">\n",
       "  <thead>\n",
       "    <tr style=\"text-align: right;\">\n",
       "      <th></th>\n",
       "      <th>TIME</th>\n",
       "      <th>WEIGHT</th>\n",
       "      <th>BMI</th>\n",
       "      <th>BODY FAT</th>\n",
       "      <th>FAT-FREE BODY WEIGHT</th>\n",
       "      <th>SUB FAT</th>\n",
       "      <th>VIS FAT</th>\n",
       "      <th>BODY WATER</th>\n",
       "      <th>SKE MUSCLE</th>\n",
       "      <th>MUSCLE MASS</th>\n",
       "      <th>BONE MASS</th>\n",
       "      <th>PROTEIN</th>\n",
       "      <th>BMR</th>\n",
       "      <th>AGE</th>\n",
       "    </tr>\n",
       "    <tr>\n",
       "      <th>DATE</th>\n",
       "      <th></th>\n",
       "      <th></th>\n",
       "      <th></th>\n",
       "      <th></th>\n",
       "      <th></th>\n",
       "      <th></th>\n",
       "      <th></th>\n",
       "      <th></th>\n",
       "      <th></th>\n",
       "      <th></th>\n",
       "      <th></th>\n",
       "      <th></th>\n",
       "      <th></th>\n",
       "      <th></th>\n",
       "    </tr>\n",
       "  </thead>\n",
       "  <tbody>\n",
       "    <tr>\n",
       "      <th>2024-04-01</th>\n",
       "      <td>07:06</td>\n",
       "      <td>161.2</td>\n",
       "      <td>23.9</td>\n",
       "      <td>0.226</td>\n",
       "      <td>124.8</td>\n",
       "      <td>0.152</td>\n",
       "      <td>8.9</td>\n",
       "      <td>0.529</td>\n",
       "      <td>0.532</td>\n",
       "      <td>117.0</td>\n",
       "      <td>6.4</td>\n",
       "      <td>0.205</td>\n",
       "      <td>1585.0</td>\n",
       "      <td>38.0</td>\n",
       "    </tr>\n",
       "    <tr>\n",
       "      <th>2024-04-02</th>\n",
       "      <td>08:27</td>\n",
       "      <td>160.2</td>\n",
       "      <td>23.7</td>\n",
       "      <td>0.224</td>\n",
       "      <td>124.3</td>\n",
       "      <td>0.151</td>\n",
       "      <td>8.8</td>\n",
       "      <td>0.530</td>\n",
       "      <td>0.533</td>\n",
       "      <td>116.4</td>\n",
       "      <td>6.4</td>\n",
       "      <td>0.206</td>\n",
       "      <td>1580.0</td>\n",
       "      <td>38.0</td>\n",
       "    </tr>\n",
       "    <tr>\n",
       "      <th>2024-04-03</th>\n",
       "      <td>07:04</td>\n",
       "      <td>160.2</td>\n",
       "      <td>23.7</td>\n",
       "      <td>0.224</td>\n",
       "      <td>124.3</td>\n",
       "      <td>0.151</td>\n",
       "      <td>8.8</td>\n",
       "      <td>0.530</td>\n",
       "      <td>0.534</td>\n",
       "      <td>116.6</td>\n",
       "      <td>6.4</td>\n",
       "      <td>0.206</td>\n",
       "      <td>1580.0</td>\n",
       "      <td>38.0</td>\n",
       "    </tr>\n",
       "    <tr>\n",
       "      <th>2024-04-04</th>\n",
       "      <td>07:04</td>\n",
       "      <td>159.6</td>\n",
       "      <td>23.6</td>\n",
       "      <td>0.222</td>\n",
       "      <td>124.2</td>\n",
       "      <td>0.15</td>\n",
       "      <td>8.7</td>\n",
       "      <td>0.531</td>\n",
       "      <td>0.535</td>\n",
       "      <td>116.3</td>\n",
       "      <td>6.5</td>\n",
       "      <td>0.206</td>\n",
       "      <td>1576.0</td>\n",
       "      <td>38.0</td>\n",
       "    </tr>\n",
       "    <tr>\n",
       "      <th>2024-04-05</th>\n",
       "      <td>07:13</td>\n",
       "      <td>158.4</td>\n",
       "      <td>23.5</td>\n",
       "      <td>0.219</td>\n",
       "      <td>123.7</td>\n",
       "      <td>0.148</td>\n",
       "      <td>8.6</td>\n",
       "      <td>0.532</td>\n",
       "      <td>0.537</td>\n",
       "      <td>115.9</td>\n",
       "      <td>6.5</td>\n",
       "      <td>0.208</td>\n",
       "      <td>1570.0</td>\n",
       "      <td>36.0</td>\n",
       "    </tr>\n",
       "  </tbody>\n",
       "</table>\n",
       "</div>"
      ],
      "text/plain": [
       "             TIME  WEIGHT   BMI  BODY FAT  FAT-FREE BODY WEIGHT SUB FAT  \\\n",
       "DATE                                                                      \n",
       "2024-04-01  07:06   161.2  23.9     0.226                 124.8   0.152   \n",
       "2024-04-02  08:27   160.2  23.7     0.224                 124.3   0.151   \n",
       "2024-04-03  07:04   160.2  23.7     0.224                 124.3   0.151   \n",
       "2024-04-04  07:04   159.6  23.6     0.222                 124.2    0.15   \n",
       "2024-04-05  07:13   158.4  23.5     0.219                 123.7   0.148   \n",
       "\n",
       "            VIS FAT  BODY WATER  SKE MUSCLE  MUSCLE MASS  BONE MASS  PROTEIN  \\\n",
       "DATE                                                                           \n",
       "2024-04-01      8.9       0.529       0.532        117.0        6.4    0.205   \n",
       "2024-04-02      8.8       0.530       0.533        116.4        6.4    0.206   \n",
       "2024-04-03      8.8       0.530       0.534        116.6        6.4    0.206   \n",
       "2024-04-04      8.7       0.531       0.535        116.3        6.5    0.206   \n",
       "2024-04-05      8.6       0.532       0.537        115.9        6.5    0.208   \n",
       "\n",
       "               BMR   AGE  \n",
       "DATE                      \n",
       "2024-04-01  1585.0  38.0  \n",
       "2024-04-02  1580.0  38.0  \n",
       "2024-04-03  1580.0  38.0  \n",
       "2024-04-04  1576.0  38.0  \n",
       "2024-04-05  1570.0  36.0  "
      ]
     },
     "execution_count": 180,
     "metadata": {},
     "output_type": "execute_result"
    }
   ],
   "source": [
    "# Review the last 5 rows of the dataset\n",
    "df.tail()"
   ]
  },
  {
   "cell_type": "markdown",
   "metadata": {},
   "source": [
    "### 3. Clean the Data"
   ]
  },
  {
   "cell_type": "code",
   "execution_count": 181,
   "metadata": {},
   "outputs": [
    {
     "data": {
      "text/plain": [
       "TIME                    1\n",
       "WEIGHT                  1\n",
       "BMI                     1\n",
       "BODY FAT                1\n",
       "FAT-FREE BODY WEIGHT    1\n",
       "SUB FAT                 0\n",
       "VIS FAT                 1\n",
       "BODY WATER              1\n",
       "SKE MUSCLE              1\n",
       "MUSCLE MASS             1\n",
       "BONE MASS               1\n",
       "PROTEIN                 1\n",
       "BMR                     1\n",
       "AGE                     1\n",
       "dtype: int64"
      ]
     },
     "execution_count": 181,
     "metadata": {},
     "output_type": "execute_result"
    }
   ],
   "source": [
    "# Look for null values\n",
    "df.isnull().sum()\n",
    "\n",
    "# Note that each column has 1 null value apart from the SUB FAT column"
   ]
  },
  {
   "cell_type": "code",
   "execution_count": 182,
   "metadata": {},
   "outputs": [
    {
     "data": {
      "text/plain": [
       "array([76])"
      ]
     },
     "execution_count": 182,
     "metadata": {},
     "output_type": "execute_result"
    }
   ],
   "source": [
    "# Find location of the null value for the TIME column\n",
    "np.where(df['TIME'].isnull())[0]"
   ]
  },
  {
   "cell_type": "code",
   "execution_count": 183,
   "metadata": {},
   "outputs": [
    {
     "data": {
      "text/plain": [
       "Timestamp('2024-02-09 00:00:00')"
      ]
     },
     "execution_count": 183,
     "metadata": {},
     "output_type": "execute_result"
    }
   ],
   "source": [
    "# Find date for the null value\n",
    "df.index[76]"
   ]
  },
  {
   "cell_type": "code",
   "execution_count": 184,
   "metadata": {},
   "outputs": [
    {
     "data": {
      "text/plain": [
       "TIME                    NaN\n",
       "WEIGHT                  NaN\n",
       "BMI                     NaN\n",
       "BODY FAT                NaN\n",
       "FAT-FREE BODY WEIGHT    NaN\n",
       "SUB FAT                    \n",
       "VIS FAT                 NaN\n",
       "BODY WATER              NaN\n",
       "SKE MUSCLE              NaN\n",
       "MUSCLE MASS             NaN\n",
       "BONE MASS               NaN\n",
       "PROTEIN                 NaN\n",
       "BMR                     NaN\n",
       "AGE                     NaN\n",
       "Name: 2024-02-09 00:00:00, dtype: object"
      ]
     },
     "execution_count": 184,
     "metadata": {},
     "output_type": "execute_result"
    }
   ],
   "source": [
    "# Review data for the date with null values\n",
    "df.loc[\"2024-02-09\"]"
   ]
  },
  {
   "cell_type": "code",
   "execution_count": 185,
   "metadata": {},
   "outputs": [
    {
     "data": {
      "text/plain": [
       "TIME                    0\n",
       "WEIGHT                  0\n",
       "BMI                     0\n",
       "BODY FAT                0\n",
       "FAT-FREE BODY WEIGHT    0\n",
       "SUB FAT                 0\n",
       "VIS FAT                 0\n",
       "BODY WATER              0\n",
       "SKE MUSCLE              0\n",
       "MUSCLE MASS             0\n",
       "BONE MASS               0\n",
       "PROTEIN                 0\n",
       "BMR                     0\n",
       "AGE                     0\n",
       "dtype: int64"
      ]
     },
     "execution_count": 185,
     "metadata": {},
     "output_type": "execute_result"
    }
   ],
   "source": [
    "# As none of the columns have values, drop row\n",
    "df = df.dropna()\n",
    "\n",
    "# Validate that there are no remaining null values\n",
    "df.isnull().sum()"
   ]
  },
  {
   "cell_type": "code",
   "execution_count": 186,
   "metadata": {},
   "outputs": [
    {
     "name": "stdout",
     "output_type": "stream",
     "text": [
      "(128, 14)\n"
     ]
    }
   ],
   "source": [
    "# Review the updated dimensions\n",
    "print(df.shape)"
   ]
  },
  {
   "cell_type": "code",
   "execution_count": 187,
   "metadata": {},
   "outputs": [],
   "source": [
    "# Make columns easier to work with\n",
    "\n",
    "# Update column names to be lowercase\n",
    "df.columns = df.columns.str.lower()\n",
    "\n",
    "# Replace spaces in column names with underscores so columns can be accessed using dot syntax\n",
    "df.columns = df.columns.str.replace(' ', '_')\n",
    "\n",
    "# Replace hyphen in fat free body weight column with underscore so columns can be accessed using dot syntax\n",
    "df.columns = df.columns.str.replace('-', '_')"
   ]
  },
  {
   "cell_type": "code",
   "execution_count": 188,
   "metadata": {},
   "outputs": [
    {
     "data": {
      "text/plain": [
       "time                     object\n",
       "weight                  float64\n",
       "bmi                     float64\n",
       "body_fat                float64\n",
       "fat_free_body_weight    float64\n",
       "sub_fat                 float64\n",
       "vis_fat                 float64\n",
       "body_water              float64\n",
       "ske_muscle              float64\n",
       "muscle_mass             float64\n",
       "bone_mass               float64\n",
       "protein                 float64\n",
       "bmr                       int64\n",
       "age                       int64\n",
       "dtype: object"
      ]
     },
     "execution_count": 188,
     "metadata": {},
     "output_type": "execute_result"
    }
   ],
   "source": [
    "# Convert sub fat column to float data type\n",
    "df.sub_fat = df.sub_fat.astype(float)\n",
    "\n",
    "# Convert bmr and age columns to integer data type\n",
    "df[[\"bmr\", \"age\"]] = df[[\"bmr\", \"age\"]].astype(int)\n",
    "\n",
    "# Review the updated data types for each column\n",
    "df.dtypes"
   ]
  },
  {
   "cell_type": "code",
   "execution_count": 189,
   "metadata": {},
   "outputs": [
    {
     "data": {
      "text/html": [
       "<div>\n",
       "<style scoped>\n",
       "    .dataframe tbody tr th:only-of-type {\n",
       "        vertical-align: middle;\n",
       "    }\n",
       "\n",
       "    .dataframe tbody tr th {\n",
       "        vertical-align: top;\n",
       "    }\n",
       "\n",
       "    .dataframe thead th {\n",
       "        text-align: right;\n",
       "    }\n",
       "</style>\n",
       "<table border=\"1\" class=\"dataframe\">\n",
       "  <thead>\n",
       "    <tr style=\"text-align: right;\">\n",
       "      <th></th>\n",
       "      <th>time</th>\n",
       "      <th>weight</th>\n",
       "      <th>bmi</th>\n",
       "      <th>body_fat</th>\n",
       "      <th>fat_free_body_weight</th>\n",
       "      <th>sub_fat</th>\n",
       "      <th>vis_fat</th>\n",
       "      <th>body_water</th>\n",
       "      <th>ske_muscle</th>\n",
       "      <th>muscle_mass</th>\n",
       "      <th>bone_mass</th>\n",
       "      <th>protein</th>\n",
       "      <th>bmr</th>\n",
       "      <th>age</th>\n",
       "    </tr>\n",
       "    <tr>\n",
       "      <th>DATE</th>\n",
       "      <th></th>\n",
       "      <th></th>\n",
       "      <th></th>\n",
       "      <th></th>\n",
       "      <th></th>\n",
       "      <th></th>\n",
       "      <th></th>\n",
       "      <th></th>\n",
       "      <th></th>\n",
       "      <th></th>\n",
       "      <th></th>\n",
       "      <th></th>\n",
       "      <th></th>\n",
       "      <th></th>\n",
       "    </tr>\n",
       "  </thead>\n",
       "  <tbody>\n",
       "    <tr>\n",
       "      <th>2023-11-01</th>\n",
       "      <td>07:03</td>\n",
       "      <td>167.4</td>\n",
       "      <td>24.8</td>\n",
       "      <td>0.241</td>\n",
       "      <td>127.1</td>\n",
       "      <td>0.162</td>\n",
       "      <td>9.5</td>\n",
       "      <td>0.520</td>\n",
       "      <td>0.522</td>\n",
       "      <td>119.0</td>\n",
       "      <td>6.5</td>\n",
       "      <td>0.199</td>\n",
       "      <td>1619</td>\n",
       "      <td>38</td>\n",
       "    </tr>\n",
       "    <tr>\n",
       "      <th>2023-11-02</th>\n",
       "      <td>07:03</td>\n",
       "      <td>166.2</td>\n",
       "      <td>24.6</td>\n",
       "      <td>0.238</td>\n",
       "      <td>126.6</td>\n",
       "      <td>0.160</td>\n",
       "      <td>9.4</td>\n",
       "      <td>0.522</td>\n",
       "      <td>0.524</td>\n",
       "      <td>118.6</td>\n",
       "      <td>6.6</td>\n",
       "      <td>0.200</td>\n",
       "      <td>1614</td>\n",
       "      <td>38</td>\n",
       "    </tr>\n",
       "    <tr>\n",
       "      <th>2023-11-09</th>\n",
       "      <td>07:04</td>\n",
       "      <td>166.4</td>\n",
       "      <td>24.6</td>\n",
       "      <td>0.239</td>\n",
       "      <td>126.6</td>\n",
       "      <td>0.161</td>\n",
       "      <td>9.4</td>\n",
       "      <td>0.521</td>\n",
       "      <td>0.523</td>\n",
       "      <td>118.6</td>\n",
       "      <td>6.6</td>\n",
       "      <td>0.200</td>\n",
       "      <td>1615</td>\n",
       "      <td>38</td>\n",
       "    </tr>\n",
       "    <tr>\n",
       "      <th>2023-11-16</th>\n",
       "      <td>07:04</td>\n",
       "      <td>166.6</td>\n",
       "      <td>24.7</td>\n",
       "      <td>0.240</td>\n",
       "      <td>126.6</td>\n",
       "      <td>0.161</td>\n",
       "      <td>9.5</td>\n",
       "      <td>0.521</td>\n",
       "      <td>0.522</td>\n",
       "      <td>118.6</td>\n",
       "      <td>6.5</td>\n",
       "      <td>0.200</td>\n",
       "      <td>1616</td>\n",
       "      <td>38</td>\n",
       "    </tr>\n",
       "    <tr>\n",
       "      <th>2023-11-23</th>\n",
       "      <td>07:03</td>\n",
       "      <td>165.8</td>\n",
       "      <td>24.6</td>\n",
       "      <td>0.238</td>\n",
       "      <td>126.3</td>\n",
       "      <td>0.160</td>\n",
       "      <td>9.4</td>\n",
       "      <td>0.522</td>\n",
       "      <td>0.524</td>\n",
       "      <td>118.5</td>\n",
       "      <td>6.6</td>\n",
       "      <td>0.201</td>\n",
       "      <td>1611</td>\n",
       "      <td>38</td>\n",
       "    </tr>\n",
       "  </tbody>\n",
       "</table>\n",
       "</div>"
      ],
      "text/plain": [
       "             time  weight   bmi  body_fat  fat_free_body_weight  sub_fat  \\\n",
       "DATE                                                                       \n",
       "2023-11-01  07:03   167.4  24.8     0.241                 127.1    0.162   \n",
       "2023-11-02  07:03   166.2  24.6     0.238                 126.6    0.160   \n",
       "2023-11-09  07:04   166.4  24.6     0.239                 126.6    0.161   \n",
       "2023-11-16  07:04   166.6  24.7     0.240                 126.6    0.161   \n",
       "2023-11-23  07:03   165.8  24.6     0.238                 126.3    0.160   \n",
       "\n",
       "            vis_fat  body_water  ske_muscle  muscle_mass  bone_mass  protein  \\\n",
       "DATE                                                                           \n",
       "2023-11-01      9.5       0.520       0.522        119.0        6.5    0.199   \n",
       "2023-11-02      9.4       0.522       0.524        118.6        6.6    0.200   \n",
       "2023-11-09      9.4       0.521       0.523        118.6        6.6    0.200   \n",
       "2023-11-16      9.5       0.521       0.522        118.6        6.5    0.200   \n",
       "2023-11-23      9.4       0.522       0.524        118.5        6.6    0.201   \n",
       "\n",
       "             bmr  age  \n",
       "DATE                   \n",
       "2023-11-01  1619   38  \n",
       "2023-11-02  1614   38  \n",
       "2023-11-09  1615   38  \n",
       "2023-11-16  1616   38  \n",
       "2023-11-23  1611   38  "
      ]
     },
     "execution_count": 189,
     "metadata": {},
     "output_type": "execute_result"
    }
   ],
   "source": [
    "# Review updated first 5 rows\n",
    "df.head()"
   ]
  },
  {
   "cell_type": "code",
   "execution_count": 190,
   "metadata": {},
   "outputs": [
    {
     "data": {
      "text/plain": [
       "<Axes: xlabel='DATE'>"
      ]
     },
     "execution_count": 190,
     "metadata": {},
     "output_type": "execute_result"
    },
    {
     "data": {
      "image/png": "[encoded data removed]",
      "text/plain": [
       "<Figure size 640x480 with 1 Axes>"
      ]
     },
     "metadata": {},
     "output_type": "display_data"
    }
   ],
   "source": [
    "# Initial plot of the weight column\n",
    "df.weight.plot()"
   ]
  },
  {
   "cell_type": "code",
   "execution_count": 191,
   "metadata": {},
   "outputs": [],
   "source": [
    "# Save clean data to a csv file\n",
    "df.to_csv('clean_df.csv')"
   ]
  }
 ],
 "metadata": {
  "kernelspec": {
   "display_name": "base",
   "language": "python",
   "name": "python3"
  },
  "language_info": {
   "codemirror_mode": {
    "name": "ipython",
    "version": 3
   },
   "file_extension": ".py",
   "mimetype": "text/x-python",
   "name": "python",
   "nbconvert_exporter": "python",
   "pygments_lexer": "ipython3",
   "version": "3.11.8"
  }
 },
 "nbformat": 4,
 "nbformat_minor": 2
}
